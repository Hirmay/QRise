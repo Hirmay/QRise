{
 "cells": [
  {
   "cell_type": "markdown",
   "id": "c7154568-490a-42c2-a7a8-42942115cf9c",
   "metadata": {},
   "source": [
    "### Here I attempt to define the state encoding and decoding for coupled spring mass system defined in paper : https://arxiv.org/pdf/2303.13012.pdf"
   ]
  },
  {
   "cell_type": "markdown",
   "id": "6aef9738-622b-417b-a94b-fd53fc36ef5c",
   "metadata": {},
   "source": [
    "##### According to paper method 2 the state is defined as \n",
    "$$|\\psi(0)\\rangle = \\frac{1}{\\sqrt{2E}} \\begin{bmatrix} \\sqrt{M}\\dot{\\vec{x}}(0) \\\\ i\\vec{\\mu}(0) \\end{bmatrix} \\text{ and  } |\\psi(t)\\rangle = \\frac{1}{\\sqrt{2E}} \\begin{bmatrix} \\sqrt{M}\\dot{\\vec{x}}(t) \\\\ i\\vec{\\mu}(t) \\end{bmatrix} $$ where $$M = \\begin{bmatrix} m_{1} & & \\\\\n",
    "    & \\ddots & \\\\\n",
    "    & & m_{N} \\end{bmatrix}_{NxN} \\text{ and  } \\vec{\\mu}(0) = \\begin{pmatrix}  \\mid \\\\ \\sqrt{k_{ij}} (x_i - x_j) \\\\ \\mid \\\\ \\sqrt{k_{jj}}x_{j} \\\\ \\mid \\end{pmatrix}_{\\frac{N(N-1)}{2}+Nx1}  \\text{ where j>i }$$"
   ]
  },
  {
   "cell_type": "markdown",
   "id": "8fd36ea3-41b3-41bd-9b43-683080e0713e",
   "metadata": {},
   "source": [
    "Since encoding and decoding the state is same, I will be attempting to encode the initial state for a simple case and try to read the state through measurement, the same principle will apply for state at time t"
   ]
  },
  {
   "cell_type": "markdown",
   "id": "42274694-7b40-431a-8aa4-fd6756e66f17",
   "metadata": {},
   "source": [
    "Three pieces of information for intial state:\n",
    "- $|\\psi(0)\\rangle = \\frac{1}{\\sqrt{2E}} \\begin{bmatrix} \\sqrt{M}\\dot{\\vec{x}}(0) \\\\ i\\vec{\\mu}(0) \\end{bmatrix} \\text{ and  } |\\psi(t)\\rangle = \\frac{1}{\\sqrt{2E}} \\begin{bmatrix} \\sqrt{M}\\dot{\\vec{x}}(t) \\\\ i\\vec{\\mu}(t) \\end{bmatrix} $ where $dim(|\\psi\\rangle) = N + M | M = N(N+1)/2$\n",
    "- $\\mathcal{W}|0\\rangle \\rightarrow |\\psi(0) \\text{ where } dim(\\mathcal{W}) = MxM$\n",
    "- for the case below intial state = $|0\\rangle^{\\otimes q}|-\\rangle$ where $q = poly(n)$\n",
    "\n",
    "All this correspond to same initial state but $N+M$ is not of form $2^n$ and we don't know the relation between $q$ and $N+M$. From pg. 10 Appendix A.1. we pad B with zeroes to make it of dimension $N x N^2$, following this logic we pad the intial state such that $dim(|\\psi(0)\\rangle) = N+N^2$ which also means that $q = N+N^2-1$"
   ]
  },
  {
   "cell_type": "markdown",
   "id": "4e517ee6-5c1e-4c00-a9b8-7cf78719317d",
   "metadata": {},
   "source": [
    "#### Case : $$d = 1, E = 1, n = 2 \\implies N = 4, \\text{ no. of springs = 4 }, m_i = 1 \\forall i \\in [1,N], k_{i,j} = 1, j>i, \\forall (i,j) \\in [1,4]$$\n",
    "$$\\dot{\\vec{x}}(0) = \\begin{bmatrix} 1 \\\\ -1 \\\\ 0 \\\\  0 \\end{bmatrix} \\text{ and } \\vec{x} = \\begin{bmatrix} 0 \\\\ 0 \\\\ 0 \\\\ 0 \\end{bmatrix}$$ "
   ]
  },
  {
   "cell_type": "code",
   "execution_count": 30,
   "id": "43e6b212-b1e6-4b77-8921-adfd8da637ed",
   "metadata": {
    "tags": []
   },
   "outputs": [],
   "source": [
    "import numpy as np"
   ]
  },
  {
   "cell_type": "code",
   "execution_count": 31,
   "id": "8ed24b16-1796-4b4b-82fd-6f58ca43d377",
   "metadata": {
    "tags": []
   },
   "outputs": [
    {
     "name": "stdout",
     "output_type": "stream",
     "text": [
      "mu vector is formed correctly\n",
      "M =  [[1 0 0 0]\n",
      " [0 1 0 0]\n",
      " [0 0 1 0]\n",
      " [0 0 0 1]]\n",
      "x_dot =  [ 1 -1  0  0] y_dot =  [ 1. -1.  0.  0.] mu =  [0.0, 0.0, 0.0, 0.0, 0.0, 0.0, 0.0, 0.0, 0.0, 0.0]\n"
     ]
    }
   ],
   "source": [
    "N = 4\n",
    "m = 1\n",
    "E = 1\n",
    "#mass matrix\n",
    "M = np.diag(np.full(N,m)) \n",
    "#position vector\n",
    "x = np.zeros(4)\n",
    "#velocity vector\n",
    "x_dot = np.array([1,-1,0,0])\n",
    "#K matrix (spring constants)\n",
    "K = np.array(([1,1,0,0],[1,0,1,0],[0,1,0,1],[0,0,1,0]))\n",
    "#y_dot vector\n",
    "y_dot = np.matmul(np.transpose(x_dot),np.sqrt(M))\n",
    "#mu vector\n",
    "mu = []\n",
    "for i in range(len(K)):\n",
    "    for j in range(len(K[0])):\n",
    "        if j>i:\n",
    "            mu.append(np.sqrt(K[i][j])*(x[i]-x[j]))\n",
    "        elif j==i:\n",
    "            mu.append(np.sqrt(K[j][j])*x[j])\n",
    "if len(mu)==(N*(N+1)/2):\n",
    "    print(\"mu vector is formed correctly\")\n",
    "print(\"M = \",M)\n",
    "print(\"x_dot = \",x_dot,\"y_dot = \",y_dot, \"mu = \", mu)"
   ]
  },
  {
   "cell_type": "markdown",
   "id": "2779aecf-c4bd-4e01-a417-690b66f514ae",
   "metadata": {},
   "source": [
    "# State Preparation "
   ]
  },
  {
   "cell_type": "code",
   "execution_count": 32,
   "id": "246e109c-255c-4ad7-ba05-d6710af73ace",
   "metadata": {
    "tags": []
   },
   "outputs": [
    {
     "name": "stdout",
     "output_type": "stream",
     "text": [
      "psi0 =  [ 0.70710678 -0.70710678  0.          0.          0.          0.\n",
      "  0.          0.          0.          0.          0.          0.\n",
      "  0.          0.        ] size_of_psi0 =  14\n"
     ]
    }
   ],
   "source": [
    "#intial state vector\n",
    "psi0 = []\n",
    "psi0 = np.concatenate([y_dot,i*np.array(mu)])/np.sqrt(2*E)\n",
    "print(\"psi0 = \",psi0, \"size_of_psi0 = \",len(psi0))"
   ]
  },
  {
   "cell_type": "code",
   "execution_count": 33,
   "id": "477f60d6-b7c1-49ba-9b76-828ee485788f",
   "metadata": {
    "tags": []
   },
   "outputs": [
    {
     "name": "stdout",
     "output_type": "stream",
     "text": [
      "4\n"
     ]
    }
   ],
   "source": [
    "#making dimesion of q suitable with padding zeros\n",
    "dim = int(N+(N*(N+1)/2))\n",
    "while not(dim and (not(dim & (dim - 1)))): #checking of it is a power of 2\n",
    "    dim+=1\n",
    "    \n",
    "num_qbits = int(np.log2(dim))\n",
    "print(num_qbits)"
   ]
  },
  {
   "cell_type": "code",
   "execution_count": 35,
   "id": "27933854-0ec9-47c8-9094-2fecfb6ecc2c",
   "metadata": {
    "tags": []
   },
   "outputs": [],
   "source": [
    "from qiskit import QuantumCircuit, QuantumRegister"
   ]
  },
  {
   "cell_type": "code",
   "execution_count": 69,
   "id": "c9d4639b-834a-4cfe-86e0-d130e165a5d8",
   "metadata": {
    "tags": []
   },
   "outputs": [
    {
     "data": {
      "image/png": "[encoded data removed]",
      "text/plain": [
       "<Figure size 469.783x367.889 with 1 Axes>"
      ]
     },
     "execution_count": 69,
     "metadata": {},
     "output_type": "execute_result"
    }
   ],
   "source": [
    "# circuit for psi0_cir according to q =1 \n",
    "q = int(np.log2(N))\n",
    "l = num_qbits-q\n",
    "q_reg2 = QuantumRegister(l, name = \"position\")\n",
    "q_reg1 = QuantumRegister(q,name = \"velocity_state\")\n",
    "psi0_cir = QuantumCircuit(q_reg1,q_reg2)\n",
    "psi0_cir.x(0)\n",
    "psi0_cir.h(0)\n",
    "psi0_cir.draw()"
   ]
  },
  {
   "cell_type": "markdown",
   "id": "ed4af3cb-a20f-4ed1-95e5-c2188f41d24c",
   "metadata": {},
   "source": [
    "# To check the accuracy of output against a classical solution \n",
    "## Method 1 : CSWAP Test \n"
   ]
  },
  {
   "cell_type": "code",
   "execution_count": 70,
   "id": "c725c091-3906-4cf8-b201-a1f25f3b0c6c",
   "metadata": {
    "tags": []
   },
   "outputs": [
    {
     "data": {
      "image/png": "[encoded data removed]",
      "text/plain": [
       "<Figure size 538.33x367.889 with 1 Axes>"
      ]
     },
     "execution_count": 70,
     "metadata": {},
     "output_type": "execute_result"
    }
   ],
   "source": [
    "#Let say psiC(0) is the classical solution of the state and psi(0), prepared above is the quantum state.\n",
    "#since the we are checking for initial states therefore t= 0\n",
    "x_dot_t = x_dot\n",
    "mu_t = mu\n",
    "y_dot_t = np.matmul(np.transpose(x_dot_t),np.sqrt(M))\n",
    "#quantum representation of the classical state psiC(0)\n",
    "psiC0 = np.concatenate([y_dot_t,i*np.array(mu_t)])/np.sqrt(2*E)\n",
    "#padding with zeros\n",
    "if len(psiC0)<dim: #security measure\n",
    "    while len(psiC0)!=dim:\n",
    "        psiC0 = np.append(psiC0,0)\n",
    "else:\n",
    "    r(\"Something went wrong\")\n",
    "\n",
    "#state in quantum circuit\n",
    "psiC0_cir = QuantumCircuit(int(np.log2(len(psiC0))))\n",
    "psiC0_cir.initialize(psiC0)\n",
    "psiC0_cir.draw()\n"
   ]
  },
  {
   "cell_type": "code",
   "execution_count": 71,
   "id": "ab46be88-6cc3-4e6c-8a70-688d097c1c64",
   "metadata": {
    "tags": []
   },
   "outputs": [
    {
     "name": "stderr",
     "output_type": "stream",
     "text": [
      "qiskit_runtime_service.__init__:INFO:2024-04-10 15:29:19,338: Default instance: ibm-q-research-2/indian-inst-tech-1/main\n"
     ]
    }
   ],
   "source": [
    "from qiskit_ibm_runtime import QiskitRuntimeService, Sampler, Estimator, Session, Options\n",
    "\n",
    "# Loading your IBM Quantum account(s)\n",
    "service = QiskitRuntimeService(channel=\"ibm_quantum\")"
   ]
  },
  {
   "cell_type": "code",
   "execution_count": 72,
   "id": "332e0a98-e30b-4d7e-a28b-c7a7773892f5",
   "metadata": {
    "tags": []
   },
   "outputs": [],
   "source": [
    "backend = service.least_busy(operational=True, simulator=True)\n",
    "session = Session(service=service, backend=backend)\n"
   ]
  },
  {
   "cell_type": "code",
   "execution_count": 73,
   "id": "7bead0fe-1400-48f0-a024-a81674ab8fc4",
   "metadata": {},
   "outputs": [
    {
     "name": "stderr",
     "output_type": "stream",
     "text": [
      "base_primitive._run_primitive:INFO:2024-04-10 15:29:30,495: Submitting job using options {'optimization_level': 1, 'resilience_level': 0, 'transpilation': {'skip_transpilation': False, 'optimization_settings': {'level': 1}}, 'resilience': {'level': 0}, 'execution': {'shots': 4000, 'init_qubits': True}, 'environment': {'log_level': 'WARNING'}, 'simulator': {'noise_model': Unset, 'seed_simulator': Unset, 'coupling_map': Unset, 'basis_gates': Unset}}\n"
     ]
    }
   ],
   "source": [
    "def cswap_test(input_cir=None,compare_cir = None):\n",
    "    a=input_cir.num_qubits\n",
    "    b = compare_cir.num_qubits\n",
    "    test_cir = QuantumCircuit(a+a+b,a)\n",
    "    test_cir.h(range(a))\n",
    "    test_cir = test_cir.compose(input_cir,range(a,a+a))\n",
    "    test_cir = test_cir.compose(compare_cir,range(a+a,a+a+b))\n",
    "    #cswaps\n",
    "    for i in range(a):\n",
    "        test_cir.cswap(i,a+i,a+a+i)\n",
    "    test_cir.h(range(a))\n",
    "    test_cir.measure(range(a),range(a))\n",
    "    \n",
    "    nShots = 1024\n",
    "    #job = execute(circuit, backend, shots=nShots)\n",
    "\n",
    "    result = Sampler(session = session).run(test_cir).result()\n",
    "\n",
    "    return test_cir, result \n",
    "cir, result = cswap_test(psi0_cir,psiC0_cir)"
   ]
  },
  {
   "cell_type": "code",
   "execution_count": 74,
   "id": "b197268e-d60f-4b7f-b712-122d95ba2d2e",
   "metadata": {
    "tags": []
   },
   "outputs": [
    {
     "data": {
      "text/plain": [
       "[{0: 1.0}]"
      ]
     },
     "execution_count": 74,
     "metadata": {},
     "output_type": "execute_result"
    }
   ],
   "source": [
    "#Successfully tested the state to match with classical solution\n",
    "result.quasi_dists"
   ]
  },
  {
   "cell_type": "markdown",
   "id": "7067ee1e-1566-43f5-a054-ff643d760eec",
   "metadata": {},
   "source": [
    "## Method 2 : State Tomography"
   ]
  },
  {
   "cell_type": "code",
   "execution_count": 76,
   "id": "33c242bb-0ec8-4fcb-9f30-9aa645dd804c",
   "metadata": {
    "collapsed": true,
    "jupyter": {
     "outputs_hidden": true
    },
    "tags": []
   },
   "outputs": [
    {
     "name": "stdout",
     "output_type": "stream",
     "text": [
      "Collecting qiskit-experiments\n",
      "  Downloading qiskit_experiments-0.6.0-py3-none-any.whl.metadata (3.9 kB)\n",
      "Requirement already satisfied: numpy>=1.17 in /opt/conda/lib/python3.10/site-packages (from qiskit-experiments) (1.23.5)\n",
      "Requirement already satisfied: scipy>=1.4 in /opt/conda/lib/python3.10/site-packages (from qiskit-experiments) (1.12.0)\n",
      "Requirement already satisfied: qiskit>=0.45 in /opt/conda/lib/python3.10/site-packages (from qiskit-experiments) (1.0.2)\n",
      "Collecting qiskit-ibm-experiment>=0.4.6 (from qiskit-experiments)\n",
      "  Downloading qiskit_ibm_experiment-0.4.7-py3-none-any.whl.metadata (6.2 kB)\n",
      "Requirement already satisfied: matplotlib>=3.4 in /opt/conda/lib/python3.10/site-packages (from qiskit-experiments) (3.6.2)\n",
      "Collecting uncertainties (from qiskit-experiments)\n",
      "  Downloading uncertainties-3.1.7-py2.py3-none-any.whl.metadata (14 kB)\n",
      "Collecting lmfit (from qiskit-experiments)\n",
      "  Downloading lmfit-1.3.0-py3-none-any.whl.metadata (13 kB)\n",
      "Requirement already satisfied: rustworkx in /opt/conda/lib/python3.10/site-packages (from qiskit-experiments) (0.14.0)\n",
      "Requirement already satisfied: pandas>=1.1.5 in /opt/conda/lib/python3.10/site-packages (from qiskit-experiments) (1.5.2)\n",
      "Requirement already satisfied: contourpy>=1.0.1 in /opt/conda/lib/python3.10/site-packages (from matplotlib>=3.4->qiskit-experiments) (1.0.6)\n",
      "Requirement already satisfied: cycler>=0.10 in /opt/conda/lib/python3.10/site-packages (from matplotlib>=3.4->qiskit-experiments) (0.11.0)\n",
      "Requirement already satisfied: fonttools>=4.22.0 in /opt/conda/lib/python3.10/site-packages (from matplotlib>=3.4->qiskit-experiments) (4.38.0)\n",
      "Requirement already satisfied: kiwisolver>=1.0.1 in /opt/conda/lib/python3.10/site-packages (from matplotlib>=3.4->qiskit-experiments) (1.4.4)\n",
      "Requirement already satisfied: packaging>=20.0 in /opt/conda/lib/python3.10/site-packages (from matplotlib>=3.4->qiskit-experiments) (23.2)\n",
      "Requirement already satisfied: pillow>=6.2.0 in /opt/conda/lib/python3.10/site-packages (from matplotlib>=3.4->qiskit-experiments) (9.2.0)\n",
      "Requirement already satisfied: pyparsing>=2.2.1 in /opt/conda/lib/python3.10/site-packages (from matplotlib>=3.4->qiskit-experiments) (3.0.9)\n",
      "Requirement already satisfied: python-dateutil>=2.7 in /opt/conda/lib/python3.10/site-packages (from matplotlib>=3.4->qiskit-experiments) (2.8.2)\n",
      "Requirement already satisfied: pytz>=2020.1 in /opt/conda/lib/python3.10/site-packages (from pandas>=1.1.5->qiskit-experiments) (2022.6)\n",
      "Requirement already satisfied: sympy>=1.3 in /opt/conda/lib/python3.10/site-packages (from qiskit>=0.45->qiskit-experiments) (1.11.1)\n",
      "Requirement already satisfied: dill>=0.3 in /opt/conda/lib/python3.10/site-packages (from qiskit>=0.45->qiskit-experiments) (0.3.6)\n",
      "Requirement already satisfied: stevedore>=3.0.0 in /opt/conda/lib/python3.10/site-packages (from qiskit>=0.45->qiskit-experiments) (5.1.0)\n",
      "Requirement already satisfied: typing-extensions in /opt/conda/lib/python3.10/site-packages (from qiskit>=0.45->qiskit-experiments) (4.9.0)\n",
      "Requirement already satisfied: symengine>=0.11 in /opt/conda/lib/python3.10/site-packages (from qiskit>=0.45->qiskit-experiments) (0.11.0)\n",
      "Requirement already satisfied: requests>=2.19 in /opt/conda/lib/python3.10/site-packages (from qiskit-ibm-experiment>=0.4.6->qiskit-experiments) (2.28.1)\n",
      "Requirement already satisfied: requests-ntlm>=1.1.0 in /opt/conda/lib/python3.10/site-packages (from qiskit-ibm-experiment>=0.4.6->qiskit-experiments) (1.2.0)\n",
      "Requirement already satisfied: urllib3>=1.21.1 in /opt/conda/lib/python3.10/site-packages (from qiskit-ibm-experiment>=0.4.6->qiskit-experiments) (1.26.13)\n",
      "Requirement already satisfied: websocket-client>=1.0.1 in /opt/conda/lib/python3.10/site-packages (from qiskit-ibm-experiment>=0.4.6->qiskit-experiments) (1.4.2)\n",
      "Requirement already satisfied: pyyaml>=6.0.0 in /opt/conda/lib/python3.10/site-packages (from qiskit-ibm-experiment>=0.4.6->qiskit-experiments) (6.0.1)\n",
      "Collecting asteval>=0.9.28 (from lmfit->qiskit-experiments)\n",
      "  Downloading asteval-0.9.32-py3-none-any.whl.metadata (2.0 kB)\n",
      "Collecting future (from uncertainties->qiskit-experiments)\n",
      "  Downloading future-1.0.0-py3-none-any.whl.metadata (4.0 kB)\n",
      "Requirement already satisfied: six>=1.5 in /opt/conda/lib/python3.10/site-packages (from python-dateutil>=2.7->matplotlib>=3.4->qiskit-experiments) (1.16.0)\n",
      "Requirement already satisfied: charset-normalizer<3,>=2 in /opt/conda/lib/python3.10/site-packages (from requests>=2.19->qiskit-ibm-experiment>=0.4.6->qiskit-experiments) (2.1.1)\n",
      "Requirement already satisfied: idna<4,>=2.5 in /opt/conda/lib/python3.10/site-packages (from requests>=2.19->qiskit-ibm-experiment>=0.4.6->qiskit-experiments) (3.4)\n",
      "Requirement already satisfied: certifi>=2017.4.17 in /opt/conda/lib/python3.10/site-packages (from requests>=2.19->qiskit-ibm-experiment>=0.4.6->qiskit-experiments) (2024.2.2)\n",
      "Requirement already satisfied: cryptography>=1.3 in /opt/conda/lib/python3.10/site-packages (from requests-ntlm>=1.1.0->qiskit-ibm-experiment>=0.4.6->qiskit-experiments) (38.0.4)\n",
      "Requirement already satisfied: pyspnego>=0.1.6 in /opt/conda/lib/python3.10/site-packages (from requests-ntlm>=1.1.0->qiskit-ibm-experiment>=0.4.6->qiskit-experiments) (0.10.2)\n",
      "Requirement already satisfied: pbr!=2.1.0,>=2.0.0 in /opt/conda/lib/python3.10/site-packages (from stevedore>=3.0.0->qiskit>=0.45->qiskit-experiments) (6.0.0)\n",
      "Requirement already satisfied: mpmath>=0.19 in /opt/conda/lib/python3.10/site-packages (from sympy>=1.3->qiskit>=0.45->qiskit-experiments) (1.2.1)\n",
      "Requirement already satisfied: cffi>=1.12 in /opt/conda/lib/python3.10/site-packages (from cryptography>=1.3->requests-ntlm>=1.1.0->qiskit-ibm-experiment>=0.4.6->qiskit-experiments) (1.15.1)\n",
      "Requirement already satisfied: pycparser in /opt/conda/lib/python3.10/site-packages (from cffi>=1.12->cryptography>=1.3->requests-ntlm>=1.1.0->qiskit-ibm-experiment>=0.4.6->qiskit-experiments) (2.21)\n",
      "Downloading qiskit_experiments-0.6.0-py3-none-any.whl (733 kB)\n",
      "\u001b[2K   \u001b[90m━━━━━━━━━━━━━━━━━━━━━━━━━━━━━━━━━━━━━━━\u001b[0m \u001b[32m733.5/733.5 kB\u001b[0m \u001b[31m870.6 kB/s\u001b[0m eta \u001b[36m0:00:00\u001b[0m00:01\u001b[0m\n",
      "\u001b[?25hDownloading qiskit_ibm_experiment-0.4.7-py3-none-any.whl (57 kB)\n",
      "\u001b[2K   \u001b[90m━━━━━━━━━━━━━━━━━━━━━━━━━━━━━━━━━━━━━━━━\u001b[0m \u001b[32m57.2/57.2 kB\u001b[0m \u001b[31m69.2 kB/s\u001b[0m eta \u001b[36m0:00:00\u001b[0ma \u001b[36m0:00:01\u001b[0m\n",
      "\u001b[?25hDownloading lmfit-1.3.0-py3-none-any.whl (105 kB)\n",
      "\u001b[2K   \u001b[90m━━━━━━━━━━━━━━━━━━━━━━━━━━━━━━━━━━━━━━━\u001b[0m \u001b[32m105.9/105.9 kB\u001b[0m \u001b[31m155.8 kB/s\u001b[0m eta \u001b[36m0:00:00\u001b[0ma \u001b[36m0:00:01\u001b[0m\n",
      "\u001b[?25hDownloading uncertainties-3.1.7-py2.py3-none-any.whl (98 kB)\n",
      "\u001b[2K   \u001b[90m━━━━━━━━━━━━━━━━━━━━━━━━━━━━━━━━━━━━━━━━\u001b[0m \u001b[32m98.4/98.4 kB\u001b[0m \u001b[31m122.5 kB/s\u001b[0m eta \u001b[36m0:00:00\u001b[0ma \u001b[36m0:00:01\u001b[0m\n",
      "\u001b[?25hDownloading asteval-0.9.32-py3-none-any.whl (20 kB)\n",
      "Downloading future-1.0.0-py3-none-any.whl (491 kB)\n",
      "\u001b[2K   \u001b[90m━━━━━━━━━━━━━━━━━━━━━━━━━━━━━━━━━━━━━━━\u001b[0m \u001b[32m491.3/491.3 kB\u001b[0m \u001b[31m670.2 kB/s\u001b[0m eta \u001b[36m0:00:00\u001b[0m00:01\u001b[0m\n",
      "\u001b[?25hInstalling collected packages: future, asteval, uncertainties, lmfit, qiskit-ibm-experiment, qiskit-experiments\n",
      "Successfully installed asteval-0.9.32 future-1.0.0 lmfit-1.3.0 qiskit-experiments-0.6.0 qiskit-ibm-experiment-0.4.7 uncertainties-3.1.7\n",
      "Note: you may need to restart the kernel to use updated packages.\n"
     ]
    }
   ],
   "source": [
    "pip install qiskit-experiments"
   ]
  },
  {
   "cell_type": "code",
   "execution_count": 93,
   "id": "291e2d8e-3433-42e9-ab59-c58bb2f19607",
   "metadata": {
    "tags": []
   },
   "outputs": [],
   "source": [
    "from qiskit_experiments.library import StateTomography\n",
    "from qiskit_aer import AerSimulator\n",
    "from qiskit_ibm_runtime.fake_provider import FakePerth, FakeOsaka"
   ]
  },
  {
   "cell_type": "code",
   "execution_count": 94,
   "id": "48ae332e-1f84-43b6-b833-cee384dcdb05",
   "metadata": {
    "tags": []
   },
   "outputs": [],
   "source": [
    "backend = AerSimulator.from_backend(FakeOsaka())\n",
    "qstexp1 = StateTomography(psi0_cir)\n",
    "qstdata1 = qstexp1.run(backend, seed_simulation=100).block_for_results()"
   ]
  },
  {
   "cell_type": "code",
   "execution_count": 112,
   "id": "7ad80071-7ed0-4ea6-b870-97595aa26d86",
   "metadata": {
    "tags": []
   },
   "outputs": [],
   "source": [
    "state_result = qstdata1.analysis_results(\"state\")\n",
    "ext_state_vec = state_result.value.to_statevector(atol=1e-1, rtol=1e-2).data"
   ]
  },
  {
   "cell_type": "markdown",
   "id": "695e04b7-b836-4016-ba9e-6dc1899a64bb",
   "metadata": {},
   "source": [
    "Extracting the values from state_vector"
   ]
  },
  {
   "cell_type": "code",
   "execution_count": 129,
   "id": "b8344c28-846f-449e-89a8-c70e62f2801a",
   "metadata": {
    "tags": []
   },
   "outputs": [],
   "source": [
    "#extracting terms from state vector\n",
    "ext_y_dot_t = ext_state_vec[:N] #momentum term\n",
    "ext_mu_t = ext_state_vec[N:N+int(N*(N+1)/2)]\n",
    "\n",
    "#with this padding is also removed"
   ]
  },
  {
   "cell_type": "code",
   "execution_count": 131,
   "id": "1e0955c9-69a9-461a-af46-3d2de0310b4a",
   "metadata": {
    "tags": []
   },
   "outputs": [],
   "source": [
    "velocity = []\n",
    "for i in range(len(ext_y_dot_t)):\n",
    "    velocity.append(np.sqrt(2*E)*ext_y_dot_t[i]/np.sqrt(M[i][i]))"
   ]
  },
  {
   "cell_type": "code",
   "execution_count": 146,
   "id": "fde41eec-eba5-44a6-b550-98acd673cee9",
   "metadata": {
    "tags": []
   },
   "outputs": [],
   "source": [
    "position = []\n",
    "for i in range(int(N*(N-1)/2),int(N*(N+1)/2)):\n",
    "    if K[int(i-N*(N-1)/2)][int(i-N*(N-1)/2)] ==0:\n",
    "        position.append(0)\n",
    "    else:\n",
    "        position.append(np.sqrt(2*E)*ext_mu_t[i]/np.sqrt(K[int(i-N*(N-1)/2)][int(i-N*(N-1)/2)]))"
   ]
  },
  {
   "cell_type": "code",
   "execution_count": 149,
   "id": "92fd22bb-0d45-4027-9988-0667d09f17a5",
   "metadata": {
    "tags": []
   },
   "outputs": [
    {
     "name": "stdout",
     "output_type": "stream",
     "text": [
      "Values of Dynamic Variables at time t after extarcting using state tomography\n",
      "position vector: [(0.002837172933950402+0.015413056393039573j), 0, 0, 0]\n",
      "velcoity vector: [(-0.9979041167497028-0.02616568079882552j), (0.9998707581288575+0j), (0.00182377550996259-0.0007969552439216539j), (0.00053942891429274+0.012700055280760502j)]\n"
     ]
    }
   ],
   "source": [
    "print(\"Values of Dynamic Variables at time t after extarcting using state tomography\")\n",
    "print(\"position vector:\",position)\n",
    "print(\"velcoity vector:\",velocity)"
   ]
  },
  {
   "cell_type": "code",
   "execution_count": null,
   "id": "85991dac-e821-4eb6-8d1b-ee11f4086731",
   "metadata": {},
   "outputs": [],
   "source": []
  }
 ],
 "metadata": {
  "kernelspec": {
   "display_name": "Qiskit v1.0.2 (ipykernel)",
   "language": "python",
   "name": "python3"
  },
  "language_info": {
   "codemirror_mode": {
    "name": "ipython",
    "version": 3
   },
   "file_extension": ".py",
   "mimetype": "text/x-python",
   "name": "python",
   "nbconvert_exporter": "python",
   "pygments_lexer": "ipython3",
   "version": "3.10.8"
  },
  "widgets": {
   "application/vnd.jupyter.widget-state+json": {
    "state": {},
    "version_major": 2,
    "version_minor": 0
   }
  }
 },
 "nbformat": 4,
 "nbformat_minor": 5
}
