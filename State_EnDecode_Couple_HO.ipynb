{
 "cells": [
  {
   "cell_type": "markdown",
   "id": "c7154568-490a-42c2-a7a8-42942115cf9c",
   "metadata": {},
   "source": [
    "### Here I attempt to define the state encoding and decoding for coupled spring mass system defined in paper : https://arxiv.org/pdf/2303.13012.pdf"
   ]
  },
  {
   "cell_type": "markdown",
   "id": "6aef9738-622b-417b-a94b-fd53fc36ef5c",
   "metadata": {},
   "source": [
    "##### According to paper method 2 the state is defined as \n",
    "$$|\\psi(0)\\rangle = \\frac{1}{\\sqrt{2E}} \\begin{bmatrix} \\sqrt{M}\\dot{\\vec{x}}(0) \\\\ i\\vec{\\mu}(0) \\end{bmatrix} \\text{ and  } |\\psi(t)\\rangle = \\frac{1}{\\sqrt{2E}} \\begin{bmatrix} \\sqrt{M}\\dot{\\vec{x}}(t) \\\\ i\\vec{\\mu}(t) \\end{bmatrix} $$ where $$M = \\begin{bmatrix} m_{1} & & \\\\\n",
    "    & \\ddots & \\\\\n",
    "    & & m_{N} \\end{bmatrix}_{NxN} \\text{ and  } \\vec{\\mu}(0) = \\begin{pmatrix}  \\mid \\\\ \\sqrt{k_{ij}} (x_i - x_j) \\\\ \\mid \\\\ \\sqrt{k_{jj}}x_{j} \\\\ \\mid \\end{pmatrix}_{\\frac{N(N-1)}{2}+Nx1}  \\text{ where j>i }$$"
   ]
  },
  {
   "cell_type": "markdown",
   "id": "8fd36ea3-41b3-41bd-9b43-683080e0713e",
   "metadata": {},
   "source": [
    "Since encoding and decoding the state is same, I will be attempting to encode the initial state for a simple case and try to read the state through measurement, the same principle will apply for state at time t"
   ]
  },
  {
   "cell_type": "markdown",
   "id": "4e517ee6-5c1e-4c00-a9b8-7cf78719317d",
   "metadata": {},
   "source": [
    "#### Case : $$d = 1, E = 1, n = 2 \\implies N = 4, \\text{ no. of springs = 4 }, m_i = 1 \\forall i \\in [1,N], k_{i,j} = 1, j>i, \\forall (i,j) \\in [1,4]$$\n",
    "$$\\dot{\\vec{x}}(0) = \\begin{bmatrix} 1 \\\\ -1 \\\\ 0 \\\\  0 \\end{bmatrix} \\text{ and } \\vec{x} = \\begin{bmatrix} 0 \\\\ 0 \\\\ 0 \\\\ 0 \\end{bmatrix}$$ "
   ]
  },
  {
   "cell_type": "code",
   "execution_count": 2,
   "id": "43e6b212-b1e6-4b77-8921-adfd8da637ed",
   "metadata": {
    "tags": []
   },
   "outputs": [],
   "source": [
    "import numpy as np"
   ]
  },
  {
   "cell_type": "code",
   "execution_count": 25,
   "id": "8ed24b16-1796-4b4b-82fd-6f58ca43d377",
   "metadata": {
    "tags": []
   },
   "outputs": [
    {
     "name": "stdout",
     "output_type": "stream",
     "text": [
      "mu vector is formed correctly\n",
      "M =  [[1 0 0 0]\n",
      " [0 1 0 0]\n",
      " [0 0 1 0]\n",
      " [0 0 0 1]]\n",
      "x_dot =  [ 1 -1  0  0] y_dot =  [ 1. -1.  0.  0.] mu =  [0.0, 0.0, 0.0, 0.0, 0.0, 0.0, 0.0, 0.0, 0.0, 0.0]\n"
     ]
    }
   ],
   "source": [
    "N = 4\n",
    "m = 1\n",
    "E = 1\n",
    "#mass matrix\n",
    "M = np.diag(np.full(N,m)) \n",
    "#position vector\n",
    "x = np.zeros(4)\n",
    "#velocity vector\n",
    "x_dot = np.array([1,-1,0,0])\n",
    "#K matrix (spring constants)\n",
    "K = np.array(([1,1,0,0],[1,0,1,0],[0,1,0,1],[0,0,1,0]))\n",
    "#y_dot vector\n",
    "y_dot = np.matmul(np.transpose(x_dot),np.sqrt(M))\n",
    "#mu vector\n",
    "mu = []\n",
    "for i in range(len(K)):\n",
    "    for j in range(len(K[0])):\n",
    "        if j>i:\n",
    "            mu.append(np.sqrt(K[i][j])*(x[i]-x[j]))\n",
    "        elif j==i:\n",
    "            mu.append(np.sqrt(K[j][j])*x[j])\n",
    "if len(mu)==(N*(N+1)/2):\n",
    "    print(\"mu vector is formed correctly\")\n",
    "print(\"M = \",M)\n",
    "print(\"x_dot = \",x_dot,\"y_dot = \",y_dot, \"mu = \", mu)"
   ]
  },
  {
   "cell_type": "code",
   "execution_count": 35,
   "id": "246e109c-255c-4ad7-ba05-d6710af73ace",
   "metadata": {
    "tags": []
   },
   "outputs": [
    {
     "name": "stdout",
     "output_type": "stream",
     "text": [
      "psi0 =  [ 0.70710678 -0.70710678  0.          0.          0.          0.\n",
      "  0.          0.          0.          0.          0.          0.\n",
      "  0.          0.        ] size_of_psi0 =  14\n"
     ]
    }
   ],
   "source": [
    "#intial state vector\n",
    "psi0 = np.concatenate([y_dot,i*np.array(mu)])/np.sqrt(2*E)\n",
    "print(\"psi0 = \",psi0, \"size_of_psi0 = \",len(psi0))"
   ]
  },
  {
   "cell_type": "markdown",
   "id": "14af2dd1-c710-4a53-90dc-559243e4b4d3",
   "metadata": {},
   "source": [
    "But due to the size of $psi0 \\neq 2^p$ cannot be encoded directly into a quantum state and from Sec. II page 4, initial state = $|0\\rangle^{\\otimes q}$ where $q = poly(n)$, also as discussed in Appendix C.2. pg 20, intial state for velocity $\\dot{\\vec{y}}(0) = |l=1\\rangle\\otimes|0\\rangle^{\\otimes q}|-\\rangle$ (here the $|-\\rangle$ is $[1,-1]$ vectors in x_dot), where L = poly(q) \n",
    "Also the state preparation is done by operator $\\mathcal{W}$ the size of which is not known.\n",
    "\n",
    "Comparing this y_dot and y_dot above it seems q = 1 and $|l=1\\rangle$ are some ancillary qubits.\n",
    "\n",
    "\n",
    "Doubts:\n",
    "- Similar vector for mu is not known, (size of mu will never satisfy a qubit vector size).\n",
    "- What is size of $\\mathcal{W}$\n",
    "- Since size of mu is always $N*(N+1)/2$, which is never equal to $2^p$ for some int p, how is mu modified to satisfy a qubit size"
   ]
  },
  {
   "cell_type": "code",
   "execution_count": 39,
   "id": "27933854-0ec9-47c8-9094-2fecfb6ecc2c",
   "metadata": {
    "tags": []
   },
   "outputs": [],
   "source": [
    "from qiskit import QuantumCircuit, QuantumRegister"
   ]
  },
  {
   "cell_type": "code",
   "execution_count": 41,
   "id": "c9d4639b-834a-4cfe-86e0-d130e165a5d8",
   "metadata": {
    "tags": []
   },
   "outputs": [
    {
     "data": {
      "image/png": "[encoded data removed]",
      "text/plain": [
       "<Figure size 469.783x200.667 with 1 Axes>"
      ]
     },
     "execution_count": 41,
     "metadata": {},
     "output_type": "execute_result"
    }
   ],
   "source": [
    "# circuit for y_dot according to q =1 \n",
    "l = 0 #no of ancillary qubits\n",
    "q = 1\n",
    "q_reg1 = QuantumRegister(l, name = \"ancillay\")\n",
    "q_reg2 = QuantumRegister(q+1,name = \"veloctiy_state\")\n",
    "y_dot_cir = QuantumCircuit(q_reg1,q_reg2)\n",
    "y_dot_cir.x(l+q)\n",
    "y_dot_cir.h(l+q)\n",
    "y_dot_cir.draw()"
   ]
  },
  {
   "cell_type": "code",
   "execution_count": null,
   "id": "a8ad2599-deaf-4dc6-9a37-0a0aea0f98ca",
   "metadata": {},
   "outputs": [],
   "source": []
  }
 ],
 "metadata": {
  "kernelspec": {
   "display_name": "Qiskit v1.0.2 (ipykernel)",
   "language": "python",
   "name": "python3"
  },
  "language_info": {
   "codemirror_mode": {
    "name": "ipython",
    "version": 3
   },
   "file_extension": ".py",
   "mimetype": "text/x-python",
   "name": "python",
   "nbconvert_exporter": "python",
   "pygments_lexer": "ipython3",
   "version": "3.10.8"
  },
  "widgets": {
   "application/vnd.jupyter.widget-state+json": {
    "state": {},
    "version_major": 2,
    "version_minor": 0
   }
  }
 },
 "nbformat": 4,
 "nbformat_minor": 5
}
