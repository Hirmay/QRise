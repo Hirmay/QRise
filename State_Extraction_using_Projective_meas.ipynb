{
  "nbformat": 4,
  "nbformat_minor": 0,
  "metadata": {
    "colab": {
      "provenance": []
    },
    "kernelspec": {
      "name": "python3",
      "display_name": "Python 3"
    },
    "language_info": {
      "name": "python"
    }
  },
  "cells": [
    {
      "cell_type": "code",
      "source": [
        "import numpy as np\n",
        "from sympy import symbols as syb\n",
        "from sympy import MatrixSymbol as msyb\n",
        "from sympy import sqrt, Array, I, Matrix"
      ],
      "metadata": {
        "id": "ayssMUjGsyDo"
      },
      "execution_count": 1,
      "outputs": []
    },
    {
      "cell_type": "code",
      "source": [
        "from sympy.physics.quantum import Bra,Ket, TensorProduct\n",
        "from sympy.physics.quantum.gate import HadamardGate as H\n",
        "from sympy.physics.quantum.gate import ZGate as Z\n",
        "from sympy import simplify, Eq, linsolve, solve\n",
        "from sympy.solvers import solve"
      ],
      "metadata": {
        "id": "9YMRdwPvtAh5"
      },
      "execution_count": 47,
      "outputs": []
    },
    {
      "cell_type": "markdown",
      "source": [
        "- $|\\psi(0)\\rangle = \\frac{1}{\\sqrt{2E}} \\begin{bmatrix} \\sqrt{M}\\dot{\\vec{x}}(0) \\\\ i\\vec{\\mu}(0) \\end{bmatrix} \\text{ and  } |\\psi(t)\\rangle = \\frac{1}{\\sqrt{2E}} \\begin{bmatrix} \\sqrt{M}\\dot{\\vec{x}}(t) \\\\ i\\vec{\\mu}(t) \\end{bmatrix} $ where $dim(|\\psi\\rangle) = N + M | M = N(N+1)/2$\n",
        "\n",
        "- Say $n = \\log_2 N$\n",
        "\n",
        "- I have assumed that the relative phase in the state only differ by $k\\pi$, where $k$ is an integer, which is a fair assumption, as velocities and positions are are real terms.\n",
        "\n",
        "- Another assumption I made is that, the state is separable in Kinetic Energy and potential energy qubits, hence, I can apply projective measurement separately to both part. This again is justifiable as because of how the state encding remains throughout the simulation.\n",
        "\n",
        "- For only getiing the velocities, I require Computational basis measurement of all KE qubits and $X^{\\otimes n}$ basis measurement of KE qubits. Which makes the complexity as $$\\mathcal{O}()+\\mathcal{O}(2)$$ which is a constant; as compared to the complexity for traditional state tomography which will be $$\\mathcal{O}()+\\mathcal{O}(4^n).$$ Exponential in n\n",
        "\n"
      ],
      "metadata": {
        "id": "tgUPbhO9spH7"
      }
    },
    {
      "cell_type": "markdown",
      "source": [
        "#### For a quantum state of arbitrary size"
      ],
      "metadata": {
        "id": "LBEf4K6zhyWu"
      }
    },
    {
      "cell_type": "code",
      "source": [
        "def dummy_state(N=2,E=1):\n",
        "  M = [1]*N # restricted to all mass 1 which can later be generalized\n",
        "  K = msyb('K', N, N,)\n",
        "  x = list(syb('x0:%d'%N,real = True)) #unknowns postion vector\n",
        "  x_dot = list(syb('v0:%d'%N,real = True)) #unknown velocity vector\n",
        "  # N(N+1)/2 terms, potential energy part of the quantum state\n",
        "  mu = []\n",
        "  for i in range(N):\n",
        "      for j in range(N):\n",
        "          if j>i:\n",
        "              mu.append((I*sqrt(K[i,j])*(x[i]-x[j]))/sqrt(2*E))\n",
        "          elif j==i:\n",
        "              mu.append((I*sqrt(K[j,j])*x[j])/sqrt(2*E))\n",
        "  # N terms kinetic energy part of the quantum state\n",
        "  y_dot = []\n",
        "  for i in range(N):\n",
        "    y_dot.append(x_dot[i]*sqrt(M[i])/sqrt(2*E))\n",
        "    psi0 = y_dot+mu\n",
        "  #padding with zeros\n",
        "  for i in range(int(3*N*(N-1)/2)):\n",
        "    psi0.append(0)\n",
        "  return psi0\n",
        "\n",
        "def __get_ke_part(psi,N):\n",
        "  return psi[:N]     #extracted the kitentic part of the state\n",
        "\n",
        "def x_measure_equations(psi,N):\n",
        "  psi0_ext = __get_ke_part(psi,N) #get the KE part\n",
        "  q = int(np.log2(N))    #number of qubits carrying kinetic energy terms\n",
        "  gate = H(q)\n",
        "  H_matrix = gate.get_target_matrix()\n",
        "  # Create the tensor product of the Hadamard gate for n qubits\n",
        "  H_otimes_q = TensorProduct(*[H_matrix for _ in range(q)])\n",
        "  phi0_ext = H_otimes_q*Matrix(psi0_ext)\n",
        "  phi_amps = []\n",
        "  for i in range(len(phi0_ext)):\n",
        "    phi_amps.append(phi0_ext[i]*phi0_ext[i])\n",
        "  return phi_amps\n",
        "\n",
        "def post_process_ke(amps_list,out_probs_x,N):\n",
        "  Eq_list = []\n",
        "  for i in range(N):\n",
        "    Eq_list.append(simplify(amps_list[i])-out_probs[i])\n",
        "  solution = solve(Eq_list, x_dot,dict =True)\n",
        "  return {\"Equations\":Eq_list, \"Solutions\": solution}\n",
        "\n",
        "def eliminate_solution(out_probs_comp,solutions):\n",
        "  filtered_sols = []\n",
        "  for cases in solutions:\n",
        "    # Check if all values in the dictionary match the corresponding compare value\n",
        "    if np.allclose(out_probs_comp,[float(_) for _ in np.array(list(cases.values()))**2/2]):\n",
        "      filtered_sols.append(cases)\n",
        "  return filtered_sols"
      ],
      "metadata": {
        "id": "F539wlPjjZXr"
      },
      "execution_count": 134,
      "outputs": []
    },
    {
      "cell_type": "code",
      "source": [
        "dummy_psi = dummy_state()\n",
        "dummy_psi"
      ],
      "metadata": {
        "colab": {
          "base_uri": "https://localhost:8080/"
        },
        "id": "HQxACqlyQBBz",
        "outputId": "140919c3-97ca-466d-d398-213becaffefc"
      },
      "execution_count": 76,
      "outputs": [
        {
          "output_type": "execute_result",
          "data": {
            "text/plain": [
              "[sqrt(2)*v0/2,\n",
              " sqrt(2)*v1/2,\n",
              " sqrt(2)*I*x0*sqrt(K[0, 0])/2,\n",
              " sqrt(2)*I*(x0 - x1)*sqrt(K[0, 1])/2,\n",
              " sqrt(2)*I*x1*sqrt(K[1, 1])/2,\n",
              " 0,\n",
              " 0,\n",
              " 0]"
            ]
          },
          "metadata": {},
          "execution_count": 76
        }
      ]
    },
    {
      "cell_type": "code",
      "source": [
        "amps_list = x_measure_equations(dummy_psi,2)"
      ],
      "metadata": {
        "id": "yS58vjWuQLIw"
      },
      "execution_count": 77,
      "outputs": []
    },
    {
      "cell_type": "code",
      "source": [
        "out_probs_x = [3/4,1/4]\n",
        "out_probs_comp = [(2-np.sqrt(3))/4,(2+np.sqrt(3))/4]\n",
        "post_process_out = post_process_ke(amps_list,out_probs_x,2)\n",
        "eliminate_solution(out_probs_comp,post_process_out[\"Solutions\"])"
      ],
      "metadata": {
        "colab": {
          "base_uri": "https://localhost:8080/"
        },
        "id": "yKJE5U5SQqOC",
        "outputId": "5962bd33-ffba-41cc-dbf3-f5936d941d47"
      },
      "execution_count": 135,
      "outputs": [
        {
          "output_type": "execute_result",
          "data": {
            "text/plain": [
              "[{v0: -0.366025403784439, v1: -1.36602540378444},\n",
              " {v0: 0.366025403784439, v1: 1.36602540378444}]"
            ]
          },
          "metadata": {},
          "execution_count": 135
        }
      ]
    }
  ]
}