{
  "nbformat": 4,
  "nbformat_minor": 0,
  "metadata": {
    "colab": {
      "provenance": []
    },
    "kernelspec": {
      "name": "python3",
      "display_name": "Python 3"
    },
    "language_info": {
      "name": "python"
    }
  },
  "cells": [
    {
      "cell_type": "code",
      "source": [
        "import numpy as np\n",
        "from sympy import symbols as syb\n",
        "from sympy import MatrixSymbol as msyb\n",
        "from sympy import sqrt, Array, I, Matrix"
      ],
      "metadata": {
        "id": "ayssMUjGsyDo"
      },
      "execution_count": 1,
      "outputs": []
    },
    {
      "cell_type": "code",
      "source": [
        "from sympy.physics.quantum import Bra,Ket, TensorProduct\n",
        "from sympy.physics.quantum.gate import HadamardGate as H\n",
        "from sympy.physics.quantum.gate import ZGate as Z\n",
        "from sympy import simplify, Eq, linsolve, solve\n",
        "from sympy.solvers import solve, nsolve"
      ],
      "metadata": {
        "id": "9YMRdwPvtAh5"
      },
      "execution_count": 2,
      "outputs": []
    },
    {
      "cell_type": "markdown",
      "source": [
        "- $|\\psi(0)\\rangle = \\frac{1}{\\sqrt{2E}} \\begin{bmatrix} \\sqrt{M}\\dot{\\vec{x}}(0) \\\\ i\\vec{\\mu}(0) \\end{bmatrix} \\text{ and  } |\\psi(t)\\rangle = \\frac{1}{\\sqrt{2E}} \\begin{bmatrix} \\sqrt{M}\\dot{\\vec{x}}(t) \\\\ i\\vec{\\mu}(t) \\end{bmatrix} $ where $dim(|\\psi\\rangle) = N + M | M = N(N+1)/2$\n",
        "\n",
        "- Say $n = \\log_2 N$\n",
        "\n",
        "- I have assumed that the relative phase in the state only differ by $k\\pi$, where $k$ is an integer, which is a fair assumption, as velocities and positions are are real terms.\n",
        "\n",
        "- Another assumption I made is that, the state is separable in Kinetic Energy and potential energy qubits, hence, I can apply projective measurement separately to both part. This again is justifiable as because of how the state encding remains throughout the simulation.\n",
        "\n",
        "- For only getiing the velocities, I require Computational basis measurement of all KE qubits and $X^{\\otimes n}$ basis measurement of KE qubits. Which makes the complexity as $$\\mathcal{O}()+\\mathcal{O}(2)$$ which is a constant; as compared to the complexity for traditional state tomography which will be $$\\mathcal{O}()+\\mathcal{O}(4^n).$$ Exponential in n\n",
        "\n"
      ],
      "metadata": {
        "id": "tgUPbhO9spH7"
      }
    },
    {
      "cell_type": "markdown",
      "source": [
        "#### For a quantum state of arbitrary size"
      ],
      "metadata": {
        "id": "LBEf4K6zhyWu"
      }
    },
    {
      "cell_type": "code",
      "source": [
        "#defining intial system globally maybe the instance of a class\n",
        "N = 2\n",
        "M = [1]*N\n",
        "E = 1\n",
        "#K = msyb('K', N, N)\n",
        "k11 = 1\n",
        "k12 = 1\n",
        "k23 = 1\n",
        "k34 = 1\n",
        "K = np.array(([k11,k12],[k12,k23]))\n",
        "x = list(syb('x0:%d'%N,real = True)) #unknowns postion vector\n",
        "x_dot = list(syb('v0:%d'%N,real = True)) #unknown velocity vector"
      ],
      "metadata": {
        "id": "NMcgXJkJ1kPV"
      },
      "execution_count": 3,
      "outputs": []
    },
    {
      "cell_type": "code",
      "source": [
        "#initial guess\n",
        "x_ini = [1,-1]\n",
        "x_dot_ini = [0,0]"
      ],
      "metadata": {
        "id": "M0qvEr7CdGTe"
      },
      "execution_count": 4,
      "outputs": []
    },
    {
      "cell_type": "code",
      "source": [
        "def dummy_state():\n",
        "\n",
        "  # N(N+1)/2 terms, potential energy part of the quantum state\n",
        "  mu = []\n",
        "  for i in range(N):\n",
        "      for j in range(N):\n",
        "          if j>i:\n",
        "              mu.append((I*sqrt(K[i,j])*(x[i]-x[j]))/sqrt(2*E))\n",
        "          elif j==i:\n",
        "              mu.append((I*sqrt(K[j,j])*x[j])/sqrt(2*E))\n",
        "  # N terms kinetic energy part of the quantum state\n",
        "  y_dot = []\n",
        "  for i in range(N):\n",
        "    y_dot.append(x_dot[i]*sqrt(M[i])/sqrt(2*E))\n",
        "    psi0 = y_dot+mu\n",
        "  #padding with zeros\n",
        "  for i in range(int(3*N*(N-1)/2)):\n",
        "    psi0.append(0)\n",
        "  return psi0, mu,\n",
        "\n",
        "def __get_ke_part(psi,N):\n",
        "  return psi[:N]     #extracted the kitentic part of the state\n",
        "\n",
        "def x_measure_equations(psi,N):\n",
        "  psi0_ext = __get_ke_part(psi,N) #get the KE part\n",
        "  q = int(np.log2(N))    #number of qubits carrying kinetic energy terms\n",
        "  gate = H(q)\n",
        "  H_matrix = gate.get_target_matrix()\n",
        "  # Create the tensor product of the Hadamard gate for n qubits\n",
        "  H_otimes_q = TensorProduct(*[H_matrix for _ in range(q)])\n",
        "  phi0_ext = H_otimes_q*Matrix(psi0_ext)\n",
        "  phi_amps = []\n",
        "  for i in range(len(phi0_ext)):\n",
        "    phi_amps.append(phi0_ext[i]*phi0_ext[i])\n",
        "  return phi_amps\n",
        "\n",
        "def post_process_ke(amps_list,out_probs_x,N):\n",
        "  Eq_list = []\n",
        "  for i in range(N):\n",
        "    Eq_list.append(simplify(amps_list[i])-out_probs_x[i])\n",
        "  print(Eq_list)\n",
        "  solution = solve(Eq_list, x_dot,dict =True)\n",
        "  return {\"Equations\":Eq_list, \"Solutions\": solution}\n",
        "\n",
        "def eliminate_solution(out_probs_comp,solutions):\n",
        "  filtered_sols = []\n",
        "  for cases in solutions:\n",
        "    # Check if all values in the dictionary match the corresponding compare value\n",
        "    if np.allclose(out_probs_comp,[float(_) for _ in np.array(list(cases.values()))**2/2]):\n",
        "      filtered_sols.append(cases)\n",
        "  return filtered_sols"
      ],
      "metadata": {
        "id": "F539wlPjjZXr"
      },
      "execution_count": 5,
      "outputs": []
    },
    {
      "cell_type": "markdown",
      "source": [
        "#### Now to deal with position part"
      ],
      "metadata": {
        "id": "MJuJZpNOkxa8"
      }
    },
    {
      "cell_type": "code",
      "source": [
        "def __get_pe_part(psi,N):\n",
        "  return psi[N:int(N*(N+3)/2)]     #extracted the kitentic part of the state\n",
        "\n",
        "def eq_association(mu,out_probs_pe=None):\n",
        "   lst = simplify(abs(np.array(mu))*abs(np.array(mu)))\n",
        "   Eq_list = []\n",
        "   for i in range(len(lst)):\n",
        "    if lst[i] != 0: #removing zeros in equations because of zeros in K matrix\n",
        "      Eq_list.append(lst[i]-out_probs_pe[i])\n",
        "   return Eq_list"
      ],
      "metadata": {
        "id": "Hf3UYn74kwCY"
      },
      "execution_count": 6,
      "outputs": []
    },
    {
      "cell_type": "code",
      "source": [
        "def post_process_pe(mu, out_probs):\n",
        "  out_probs_pe = out_probs[N:int(N*(N+3)/2)]\n",
        "  Eq_list = eq_association(mu,out_probs_pe)\n",
        "  print(Eq_list[0:4],x[0:4])\n",
        "  solution = solve(Eq_list[0:4],x[0:4] ,dict =True)\n",
        "  return solution"
      ],
      "metadata": {
        "id": "cGrIvjJ355qk"
      },
      "execution_count": 7,
      "outputs": []
    },
    {
      "cell_type": "code",
      "source": [
        "dummy, mu = dummy_state()"
      ],
      "metadata": {
        "id": "lU0UE8bF8Q_r"
      },
      "execution_count": 9,
      "outputs": []
    },
    {
      "cell_type": "code",
      "source": [
        "out_probs = np.random.rand(2*N**2)\n",
        "out_probs = out_probs/sum(out_probs)\n",
        "post_process_pe(mu, out_probs)"
      ],
      "metadata": {
        "colab": {
          "base_uri": "https://localhost:8080/"
        },
        "id": "x7Uw_YEsu6wL",
        "outputId": "1b0c0bbe-3093-49ee-f84a-bfb5592ef922"
      },
      "execution_count": 10,
      "outputs": [
        {
          "output_type": "stream",
          "name": "stdout",
          "text": [
            "[x0**2/2 - 0.0973111598991841, (x0 - x1)**2/2 - 0.121147283596827, x1**2/2 - 0.161839782603089] [x0, x1]\n"
          ]
        },
        {
          "output_type": "execute_result",
          "data": {
            "text/plain": [
              "[]"
            ]
          },
          "metadata": {},
          "execution_count": 10
        }
      ]
    },
    {
      "cell_type": "code",
      "source": [
        "amps_list = x_measure_equations(dummy,2)\n",
        "simplify(Array(amps_list))"
      ],
      "metadata": {
        "id": "yS58vjWuQLIw",
        "colab": {
          "base_uri": "https://localhost:8080/",
          "height": 47
        },
        "outputId": "f638728a-b25e-4cd4-eaf7-c080674f7d4d"
      },
      "execution_count": 12,
      "outputs": [
        {
          "output_type": "execute_result",
          "data": {
            "text/plain": [
              "[(v0 + v1)**2/4, (v0 - v1)**2/4]"
            ],
            "text/latex": "$\\displaystyle \\left[\\begin{matrix}\\frac{\\left(v_{0} + v_{1}\\right)^{2}}{4} & \\frac{\\left(v_{0} - v_{1}\\right)^{2}}{4}\\end{matrix}\\right]$"
          },
          "metadata": {},
          "execution_count": 12
        }
      ]
    },
    {
      "cell_type": "code",
      "source": [
        "out_probs_x = np.random.rand(2*N**2)\n",
        "out_probs_comp = np.random.rand(2*N**2)\n",
        "post_process_out = post_process_ke(amps_list,out_probs_x,2)\n",
        "#eliminate_solution(out_probs_comp,post_process_out[\"Solutions\"])"
      ],
      "metadata": {
        "colab": {
          "base_uri": "https://localhost:8080/"
        },
        "id": "yKJE5U5SQqOC",
        "outputId": "1ca6d241-7570-4198-a2f7-b3fa3a0518f6"
      },
      "execution_count": 15,
      "outputs": [
        {
          "output_type": "stream",
          "name": "stdout",
          "text": [
            "[(v0 + v1)**2/4 - 0.0870370492411132, (v0 - v1)**2/4 - 0.478395960584106]\n"
          ]
        }
      ]
    },
    {
      "cell_type": "code",
      "source": [
        "post_process_out"
      ],
      "metadata": {
        "colab": {
          "base_uri": "https://localhost:8080/"
        },
        "id": "CSROEn14KMj8",
        "outputId": "79ae5a21-6924-4d03-b4e7-a06832bd713d"
      },
      "execution_count": 16,
      "outputs": [
        {
          "output_type": "execute_result",
          "data": {
            "text/plain": [
              "{'Equations': [(v0 + v1)**2/4 - 0.0870370492411132,\n",
              "  (v0 - v1)**2/4 - 0.478395960584106],\n",
              " 'Solutions': [{v0: -0.986682160293004, v1: 0.396641316821594},\n",
              "  {v0: -0.396641316821594, v1: 0.986682160293004},\n",
              "  {v0: 0.396641316821594, v1: -0.986682160293004},\n",
              "  {v0: 0.986682160293004, v1: -0.396641316821594}]}"
            ]
          },
          "metadata": {},
          "execution_count": 16
        }
      ]
    },
    {
      "cell_type": "code",
      "source": [],
      "metadata": {
        "id": "j-PhPX8XddUt"
      },
      "execution_count": null,
      "outputs": []
    }
  ]
}
