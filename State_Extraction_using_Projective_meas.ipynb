{
  "nbformat": 4,
  "nbformat_minor": 0,
  "metadata": {
    "colab": {
      "provenance": []
    },
    "kernelspec": {
      "name": "python3",
      "display_name": "Python 3"
    },
    "language_info": {
      "name": "python"
    }
  },
  "cells": [
    {
      "cell_type": "code",
      "source": [
        "import numpy as np\n",
        "from sympy import symbols as syb\n",
        "from sympy import MatrixSymbol as msyb\n",
        "from sympy import sqrt, Array, I, Matrix"
      ],
      "metadata": {
        "id": "ayssMUjGsyDo"
      },
      "execution_count": 1,
      "outputs": []
    },
    {
      "cell_type": "code",
      "source": [
        "from sympy.physics.quantum import Bra,Ket, TensorProduct\n",
        "from sympy.physics.quantum.gate import HadamardGate as H\n",
        "from sympy.physics.quantum.gate import ZGate as Z\n",
        "from sympy import simplify, Eq, linsolve, solve\n",
        "from sympy.solvers import solve, nsolve"
      ],
      "metadata": {
        "id": "9YMRdwPvtAh5"
      },
      "execution_count": 2,
      "outputs": []
    },
    {
      "cell_type": "markdown",
      "source": [
        "- $|\\psi(0)\\rangle = \\frac{1}{\\sqrt{2E}} \\begin{bmatrix} \\sqrt{M}\\dot{\\vec{x}}(0) \\\\ i\\vec{\\mu}(0) \\end{bmatrix} \\text{ and  } |\\psi(t)\\rangle = \\frac{1}{\\sqrt{2E}} \\begin{bmatrix} \\sqrt{M}\\dot{\\vec{x}}(t) \\\\ i\\vec{\\mu}(t) \\end{bmatrix} $ where $dim(|\\psi\\rangle) = N + M | M = N(N+1)/2$\n",
        "\n",
        "- Say $n = \\log_2 N$\n",
        "\n",
        "- I have assumed that the relative phase in the state only differ by $k\\pi$, where $k$ is an integer, which is a fair assumption, as velocities and positions are are real terms.\n",
        "\n",
        "- Another assumption I made is that, the state is separable in Kinetic Energy and potential energy qubits, hence, I can apply projective measurement separately to both part. This again is justifiable as because of how the state encding remains throughout the simulation.\n",
        "\n",
        "- For only getiing the velocities, I require Computational basis measurement of all KE qubits and $X^{\\otimes n}$ basis measurement of KE qubits. Which makes the complexity as $$\\mathcal{O}()+\\mathcal{O}(2)$$ which is a constant; as compared to the complexity for traditional state tomography which will be $$\\mathcal{O}()+\\mathcal{O}(4^n).$$ Exponential in n\n",
        "\n"
      ],
      "metadata": {
        "id": "tgUPbhO9spH7"
      }
    },
    {
      "cell_type": "markdown",
      "source": [
        "#### For a quantum state of arbitrary size"
      ],
      "metadata": {
        "id": "LBEf4K6zhyWu"
      }
    },
    {
      "cell_type": "markdown",
      "source": [
        "##### This cell sets up the common initial system and initial state of that system"
      ],
      "metadata": {
        "id": "PdGXGG8XqoJT"
      }
    },
    {
      "cell_type": "code",
      "source": [
        "#defining intial system globally maybe the instance of a class\n",
        "N = 2\n",
        "M = [1]*N\n",
        "E = 1\n",
        "#K = msyb('K', N, N)\n",
        "k11 = 1\n",
        "k12 = 1\n",
        "k23 = 1\n",
        "k34 = 1\n",
        "K = np.array(([k11,k12],[k12,k23]))\n",
        "x = list(syb('x0:%d'%N,real = True)) #unknowns postion vector\n",
        "x_dot = list(syb('v0:%d'%N,real = True)) #unknown velocity vector"
      ],
      "metadata": {
        "id": "NMcgXJkJ1kPV"
      },
      "execution_count": 3,
      "outputs": []
    },
    {
      "cell_type": "code",
      "source": [
        "#initial guess\n",
        "x_ini = [1,-1]\n",
        "x_dot_ini = [0,0]"
      ],
      "metadata": {
        "id": "M0qvEr7CdGTe"
      },
      "execution_count": 4,
      "outputs": []
    },
    {
      "cell_type": "markdown",
      "source": [
        "##### Actual post-processing code to extract the velocities and posititons from output probabilities."
      ],
      "metadata": {
        "id": "KU_bD_fbrHo0"
      }
    },
    {
      "cell_type": "code",
      "source": [
        "def dummy_state():\n",
        "\n",
        "  # N(N+1)/2 terms, potential energy part of the quantum state\n",
        "  mu = []\n",
        "  for i in range(N):\n",
        "      for j in range(N):\n",
        "          if j>i:\n",
        "              mu.append((I*sqrt(K[i,j])*(x[i]-x[j]))/sqrt(2*E))\n",
        "          elif j==i:\n",
        "              mu.append((I*sqrt(K[j,j])*x[j])/sqrt(2*E))\n",
        "  # N terms kinetic energy part of the quantum state\n",
        "  y_dot = []\n",
        "  for i in range(N):\n",
        "    y_dot.append(x_dot[i]*sqrt(M[i])/sqrt(2*E))\n",
        "    psi0 = y_dot+mu\n",
        "  #padding with zeros\n",
        "  for i in range(int(3*N*(N-1)/2)):\n",
        "    psi0.append(0)\n",
        "  return psi0, mu,\n",
        "\n",
        "def __get_ke_part(psi,N):\n",
        "  return psi[:N]     #extracted the kitentic part of the state\n",
        "\n",
        "def x_measure_equations(psi,N):\n",
        "  psi0_ext = __get_ke_part(psi,N) #get the KE part\n",
        "  q = int(np.log2(N))    #number of qubits carrying kinetic energy terms\n",
        "  gate = H(q)\n",
        "  H_matrix = gate.get_target_matrix()\n",
        "  # Create the tensor product of the Hadamard gate for n qubits\n",
        "  H_otimes_q = TensorProduct(*[H_matrix for _ in range(q)])\n",
        "  phi0_ext = H_otimes_q*Matrix(psi0_ext)\n",
        "  phi_amps = []\n",
        "  for i in range(len(phi0_ext)):\n",
        "    phi_amps.append(phi0_ext[i]*phi0_ext[i])\n",
        "  return phi_amps\n",
        "\n",
        "def post_process_ke(amps_list,out_probs_x,N):\n",
        "  Eq_list = []\n",
        "  for i in range(N):\n",
        "    Eq_list.append(simplify(amps_list[i])-out_probs_x[i])\n",
        "  print(Eq_list)\n",
        "  solution = solve(Eq_list, x_dot,dict =True)\n",
        "  return {\"Equations\":Eq_list, \"Solutions\": solution}\n",
        "\n",
        "def eliminate_solution(out_probs_comp,solutions):\n",
        "  filtered_sols = []\n",
        "  for cases in solutions:\n",
        "    # Check if all values in the dictionary match the corresponding compare value\n",
        "    if np.allclose(out_probs_comp,[float(_) for _ in np.array(list(cases.values()))**2/2]):\n",
        "      filtered_sols.append(cases)\n",
        "  return filtered_sols"
      ],
      "metadata": {
        "id": "F539wlPjjZXr"
      },
      "execution_count": 5,
      "outputs": []
    },
    {
      "cell_type": "markdown",
      "source": [
        "#### Now to deal with position part"
      ],
      "metadata": {
        "id": "MJuJZpNOkxa8"
      }
    },
    {
      "cell_type": "code",
      "source": [
        "def __get_pe_part(psi,N):\n",
        "  return psi[N:int(N*(N+3)/2)]     #extracted the kitentic part of the state\n",
        "\n",
        "def eq_association(mu,out_probs_pe=None):\n",
        "   lst = simplify(abs(np.array(mu))*abs(np.array(mu)))\n",
        "   Eq_list = []\n",
        "   for i in range(len(lst)):\n",
        "    if lst[i] != 0: #removing zeros in equations because of zeros in K matrix\n",
        "      Eq_list.append(lst[i]-out_probs_pe[i])\n",
        "   return Eq_list"
      ],
      "metadata": {
        "id": "Hf3UYn74kwCY"
      },
      "execution_count": 6,
      "outputs": []
    },
    {
      "cell_type": "code",
      "source": [
        "def post_process_pe(mu, out_probs):\n",
        "  out_probs_pe = out_probs[N:int(N*(N+3)/2)]\n",
        "  Eq_list = eq_association(mu,out_probs_pe)\n",
        "  print(Eq_list[0:4],x[0:4])\n",
        "  solution = solve(Eq_list,x ,dict =True)\n",
        "  return solution"
      ],
      "metadata": {
        "id": "cGrIvjJ355qk"
      },
      "execution_count": 7,
      "outputs": []
    },
    {
      "cell_type": "markdown",
      "source": [
        "###### An Example for N = 2"
      ],
      "metadata": {
        "id": "7mFWKVW7rlce"
      }
    },
    {
      "cell_type": "code",
      "source": [
        "dummy, mu = dummy_state()"
      ],
      "metadata": {
        "id": "lU0UE8bF8Q_r"
      },
      "execution_count": 8,
      "outputs": []
    },
    {
      "cell_type": "code",
      "source": [
        "dummy"
      ],
      "metadata": {
        "colab": {
          "base_uri": "https://localhost:8080/"
        },
        "id": "hUvE7_CIs2-V",
        "outputId": "65a3e44e-8398-49a1-8891-31c474c82962"
      },
      "execution_count": 9,
      "outputs": [
        {
          "output_type": "execute_result",
          "data": {
            "text/plain": [
              "[sqrt(2)*v0/2,\n",
              " sqrt(2)*v1/2,\n",
              " sqrt(2)*I*x0/2,\n",
              " sqrt(2)*I*(x0 - x1)/2,\n",
              " sqrt(2)*I*x1/2,\n",
              " 0,\n",
              " 0,\n",
              " 0]"
            ]
          },
          "metadata": {},
          "execution_count": 9
        }
      ]
    },
    {
      "cell_type": "code",
      "source": [
        "# Now let's suppose the probabilities obtained after Hamiltonian simulation and measurement of state in both hadamard basis and computational basis are:\n",
        "out_probs_comp = np.array(([1/8,1/8,1/2,1/8,1/8,0,0,0]))\n",
        "out_probs_x = np.array(([0,1/4,1/4,1/2,0,0,0,0]))"
      ],
      "metadata": {
        "id": "NCtjlaHawGIu"
      },
      "execution_count": 18,
      "outputs": []
    },
    {
      "cell_type": "code",
      "source": [
        "#to compute the positions from the potential energy part we only need the output probabilities from computational basis measurement\n",
        "post_process_pe(mu, out_probs_comp)"
      ],
      "metadata": {
        "colab": {
          "base_uri": "https://localhost:8080/"
        },
        "id": "GZxeIiiYxfKp",
        "outputId": "a88edc9d-de84-4f0a-a309-4bc5e8a14f50"
      },
      "execution_count": 22,
      "outputs": [
        {
          "output_type": "stream",
          "name": "stdout",
          "text": [
            "[x0**2/2 - 0.5, (x0 - x1)**2/2 - 0.125, x1**2/2 - 0.125] [x0, x1]\n"
          ]
        },
        {
          "output_type": "execute_result",
          "data": {
            "text/plain": [
              "[{x0: -1.00000000000000, x1: -0.500000000000000},\n",
              " {x0: 1.00000000000000, x1: 0.500000000000000}]"
            ]
          },
          "metadata": {},
          "execution_count": 22
        }
      ]
    },
    {
      "cell_type": "code",
      "source": [
        "#to compute the velocities from kinetic energy part we need both computational basis measurement outcome and hadamard basis outcome\n",
        "\n",
        "#first we generate the kinetic energy part of equations corresponding to system state in hadamard basis\n",
        "amps_list = x_measure_equations(dummy,2)\n",
        "\n",
        "#then use hadamard basis measurement and the equation to get possible solutions\n",
        "post_process_out = post_process_ke(amps_list,out_probs_x,2)"
      ],
      "metadata": {
        "colab": {
          "base_uri": "https://localhost:8080/"
        },
        "id": "QfzvMu4Hx2Q0",
        "outputId": "493f83a9-5162-4969-baff-ea520dca7c5a"
      },
      "execution_count": 24,
      "outputs": [
        {
          "output_type": "stream",
          "name": "stdout",
          "text": [
            "[(v0 + v1)**2/4, (v0 - v1)**2/4 - 0.25]\n"
          ]
        }
      ]
    },
    {
      "cell_type": "code",
      "source": [
        "#finally we use kinetic part of the measurement outcomes in computational basis to eliminate incorrect solutions\n",
        "eliminate_solution(out_probs_comp[0:2],post_process_out[\"Solutions\"])"
      ],
      "metadata": {
        "colab": {
          "base_uri": "https://localhost:8080/"
        },
        "id": "kZeThVDNypwW",
        "outputId": "135745f0-cc60-4e91-fde9-a0337c03726a"
      },
      "execution_count": 29,
      "outputs": [
        {
          "output_type": "execute_result",
          "data": {
            "text/plain": [
              "[{v0: -0.500000000000000, v1: 0.500000000000000},\n",
              " {v0: 0.500000000000000, v1: -0.500000000000000}]"
            ]
          },
          "metadata": {},
          "execution_count": 29
        }
      ]
    },
    {
      "cell_type": "code",
      "source": [],
      "metadata": {
        "id": "j-PhPX8XddUt"
      },
      "execution_count": null,
      "outputs": []
    }
  ]
}
