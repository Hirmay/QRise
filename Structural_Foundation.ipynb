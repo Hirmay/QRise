{
 "cells": [
  {
   "cell_type": "markdown",
   "id": "22bf2924-7740-4ac3-8c59-95bcc6d329c6",
   "metadata": {},
   "source": [
    "## The Hamiltonian for the spring-ball oscillating system given in paper https://arxiv.org/pdf/2303.13012.pdf\n",
    "\n",
    "Following largely from section 3 of the paper"
   ]
  },
  {
   "cell_type": "markdown",
   "id": "905eed24-428b-49fc-8a93-4a6b36232c8b",
   "metadata": {},
   "source": [
    "- $ H = -\\begin{bmatrix} 0 & B \\\\ B^\\dagger & 0 \\end{bmatrix} $ where dim of $B$ is $N \\text{x} M$, therefore $dim(H) = (N+M) \\text{x} (N+M)$\n",
    "- We pad $B$ with zeros such that $dim (B) = N^2 \\text{x}N^2$ (according to appendix A1 and A4), therefore $dim(H) = 2N^2 \\text{x} 2N^2$\n",
    "- Now for $B$ we have, $BB^\\dagger = A$, $ \\begin{equation}\n",
    "  \\sqrt{M}B|j,k\\rangle =\n",
    "    \\begin{cases}\n",
    "      \\sqrt{k_{jj}}|j\\rangle & \\text{if } j=k \\\\\n",
    "      \\sqrt{k_{jk}}(|j\\rangle-|k\\rangle) & \\text{if } j<k\\\\\n",
    "    \\end{cases}       \n",
    "\\end{equation} $ and elements of $B^\\dagger$ are either $\\sqrt{k_{jk}/m_j}$ or $0$.\n",
    "\n",
    "- $ A$ = $\\sqrt{M}^{-1] F \\sqrt{M}^{-1} $.\n",
    "\n",
    "- $M$ is diagonal matrix of masses $(m_{jj}>0)$ and $F$ is the $N \\text{x} N$ matrix whose diagonal and off-diagonal entries are $f_{jj} = \\sum_k \\kappa_{jk}$ and $f_{jk} = -\\kappa_{jk}$,respectively. "
   ]
  },
  {
   "cell_type": "markdown",
   "id": "d07e4bb7-0714-49a5-9af4-d41b1b26a288",
   "metadata": {},
   "source": [
    "for the second point in $|j,k\\rangle$ state is in vector [00,11,22,33,01,02,03,12,13,23]"
   ]
  },
  {
   "cell_type": "markdown",
   "id": "61f2420e-8f7e-477d-97d5-c2f056c73148",
   "metadata": {},
   "source": [
    "#### Case : $$d = 1, E = 1, n = 2 \\implies N = 4, \\text{ no. of springs = 4 }, m_i = 1 \\forall i \\in [1,N], k_{i,j} \\in [1,4], j>i, \\forall (i,j) $$\n",
    "$$\\dot{\\vec{x}}(0) = \\begin{bmatrix} 1 \\\\ -1 \\\\ 0 \\\\  0 \\end{bmatrix} \\text{ and } \\vec{x} = \\begin{bmatrix} 0 \\\\ 0 \\\\ 0 \\\\ 0 \\end{bmatrix}$$ "
   ]
  },
  {
   "cell_type": "code",
   "execution_count": 17,
   "id": "10bb360f-ebfa-4f4a-9793-ddabab3757d1",
   "metadata": {
    "tags": []
   },
   "outputs": [],
   "source": [
    "import numpy as np\n",
    "import scipy as sc\n",
    "from qiskit.quantum_info import Statevector\n",
    "from qiskit.circuit.library import HGate\n",
    "from qiskit import QuantumCircuit\n",
    "from qiskit.quantum_info import SparsePauliOp\n",
    "from utils import Hamiltonian_Formulation\n",
    "from classiq import (\n",
    "    Output,\n",
    "    QArray,\n",
    "    QParam,\n",
    "    List,\n",
    "    QBit,\n",
    "    QNum,\n",
    "    control,\n",
    "    create_model,\n",
    "    execute,\n",
    "    prepare_state,\n",
    "    qfunc,\n",
    "    show,\n",
    "    synthesize,\n",
    "    H,\n",
    "    Output,\n",
    "    Z,\n",
    "    allocate,\n",
    "    qfunc,\n",
    "    suzuki_trotter,\n",
    ")\n",
    "\n",
    "from classiq.applications.chemistry import (\n",
    "    ChemistryExecutionParameters,\n",
    "    HEAParameters,\n",
    "    Molecule,\n",
    "    MoleculeProblem,\n",
    "    UCCParameters,\n",
    "    FermionicOperator,\n",
    "    HamiltonianProblem,\n",
    ")\n",
    "\n",
    "import classiq\n",
    "from qiskit import qasm3\n",
    "\n",
    "# classiq.authenticate()"
   ]
  },
  {
   "cell_type": "code",
   "execution_count": 2,
   "id": "d440bef5-3fcb-4a9c-8fcf-f593c7547815",
   "metadata": {
    "tags": []
   },
   "outputs": [
    {
     "data": {
      "text/plain": [
       "matrix([[ 0.        ,  0.        ,  0.        ,  0.        ,  0.        ,\n",
       "          0.        ,  0.        ,  0.        ,  0.        ,  0.        ,\n",
       "          0.        ,  0.        ,  0.        ,  0.        ,  0.        ,\n",
       "          0.        , -0.        , -0.        , -0.        , -0.        ,\n",
       "          1.        , -0.        , -0.        , -1.73205081, -0.        ,\n",
       "         -0.        , -0.        , -0.        , -0.        , -0.        ,\n",
       "         -0.        , -0.        ]])"
      ]
     },
     "execution_count": 2,
     "metadata": {},
     "output_type": "execute_result"
    }
   ],
   "source": [
    "n = 2\n",
    "N = 2**n\n",
    "m = 1\n",
    "E = 1\n",
    "#mass matrix\n",
    "M = np.diag(np.full(N,m)) \n",
    "#K matrix (spring constants)\n",
    "k11 = 2\n",
    "k12 = 1\n",
    "k23 = 3\n",
    "k34 = 2\n",
    "K = np.array(([k11,k12,0,0],[k12,0,k23,0],[0,k23,0,k34],[0,0,k34,0]))\n",
    "\n",
    "\n",
    "ham_formulation = Hamiltonian_Formulation(n, K, M)\n",
    "ham_formulation.compute_Hamiltonian()\n",
    "H_matrix = ham_formulation.H_matrix\n",
    "H_matrix[1]\n",
    "# print(len(H_matrix))"
   ]
  },
  {
   "cell_type": "markdown",
   "id": "210dde3e-0e47-40a5-996b-2a2fd6bb6569",
   "metadata": {},
   "source": [
    "## State Preparation"
   ]
  },
  {
   "cell_type": "code",
   "execution_count": 3,
   "id": "8fb1d30d-5b60-4cc1-a310-17a2f2b94802",
   "metadata": {
    "tags": []
   },
   "outputs": [
    {
     "name": "stdout",
     "output_type": "stream",
     "text": [
      "32\n"
     ]
    },
    {
     "data": {
      "text/plain": [
       "array([ 0.70710678, -0.70710678,  0.        ,  0.        ,  0.        ,\n",
       "        0.        ,  0.        ,  0.        ,  0.        ,  0.        ,\n",
       "        0.        ,  0.        ,  0.        ,  0.        ,  0.        ,\n",
       "        0.        ,  0.        ,  0.        ,  0.        ,  0.        ,\n",
       "        0.        ,  0.        ,  0.        ,  0.        ,  0.        ,\n",
       "        0.        ,  0.        ,  0.        ,  0.        ,  0.        ,\n",
       "        0.        ,  0.        ])"
      ]
     },
     "execution_count": 3,
     "metadata": {},
     "output_type": "execute_result"
    }
   ],
   "source": [
    "initial_state = np.array([1/np.sqrt(2),-1/np.sqrt(2)] + [0 for i in range(2*N**2-2)])\n",
    "print(len(initial_state))\n",
    "# use https://github.com/Qiskit/qiskit/issues/11735#issuecomment-1992145075 or Classiq\n",
    "\n",
    "qc = QuantumCircuit(2*n+1)\n",
    "qc.h(0)\n",
    "qc.z(0)\n",
    "\n",
    "init_state = Statevector.from_instruction(qc)\n",
    "\n",
    "initial_state\n"
   ]
  },
  {
   "cell_type": "markdown",
   "id": "29f70a6a-f63d-4c1b-b938-4aa54dfa8909",
   "metadata": {},
   "source": [
    "## Conditions for testing\n",
    "- t = 5\n",
    "- for n = 2, 5, 10\n",
    "- accuracy = 99%\n",
    "- note down accuracy, depth of circuit, number of gates (single and 2 qubit)"
   ]
  },
  {
   "cell_type": "markdown",
   "id": "f7f8eed4-d543-4127-8384-4338f2e5f0db",
   "metadata": {},
   "source": [
    "## Computing the final state classically"
   ]
  },
  {
   "cell_type": "code",
   "execution_count": 4,
   "id": "e9068ba0-9846-4e76-8928-ac1c5fa67324",
   "metadata": {
    "tags": []
   },
   "outputs": [],
   "source": [
    "t=5\n",
    "\n",
    "# exact_times = np.linspace(0, t, 101)\n",
    "# We define a slightly denser time mesh\n",
    "exact_times = np.linspace(0, t, 101)\n",
    "\n",
    "# We compute the exact evolution using the exp\n",
    "final_state = init_state.evolve(sc.linalg.expm(-1j * t * H_matrix)) "
   ]
  },
  {
   "cell_type": "code",
   "execution_count": 5,
   "id": "824d48c4-daa0-43c2-ab96-0421bf6615f9",
   "metadata": {
    "tags": []
   },
   "outputs": [
    {
     "data": {
      "text/plain": [
       "True"
      ]
     },
     "execution_count": 5,
     "metadata": {},
     "output_type": "execute_result"
    }
   ],
   "source": [
    "final_state.is_valid()"
   ]
  },
  {
   "cell_type": "markdown",
   "id": "e996d588-6fe7-4ec3-8f2c-56c513ed80dd",
   "metadata": {},
   "source": [
    "## Computing the Hamiltonian simulation on Classiq"
   ]
  },
  {
   "cell_type": "markdown",
   "id": "068acca4-72b8-42cc-ae57-2464147c89d2",
   "metadata": {},
   "source": [
    "### State preparation using Classiq"
   ]
  },
  {
   "cell_type": "code",
   "execution_count": 14,
   "id": "05e4cb5b-bdbf-4d97-9aa3-df93d7072dd8",
   "metadata": {
    "tags": []
   },
   "outputs": [
    {
     "data": {
      "text/plain": [
       "[('XIIII', (-0.08838834764831845+0j)),\n",
       " ('XIIIZ', (-0.08838834764831845+0j)),\n",
       " ('XIIZI', (-0.08838834764831845+0j)),\n",
       " ('XIIZZ', (-0.08838834764831845+0j)),\n",
       " ('XIXII', (-0.0625+0j)),\n",
       " ('XIXIX', (0.17075317547305482+0j)),\n",
       " ('XIXIZ', (-0.0625+0j)),\n",
       " ('XIXXI', (-0.10825317547305482+0j)),\n",
       " ('XIXXZ', (0.10825317547305482+0j)),\n",
       " ('XIXZI', (-0.0625+0j)),\n",
       " ('XIXZX', (-0.045753175473054825+0j)),\n",
       " ('XIXZZ', (-0.0625+0j)),\n",
       " ('XIYIY', (-0.045753175473054825+0j)),\n",
       " ('XIYYI', (0.10825317547305482-0j)),\n",
       " ('XIYYZ', (-0.10825317547305482+0j)),\n",
       " ('XIYZY', (0.17075317547305482-0j)),\n",
       " ('XIZII', (-0.08838834764831845+0j)),\n",
       " ('XIZIZ', (-0.08838834764831845+0j)),\n",
       " ('XIZZI', (-0.08838834764831845+0j)),\n",
       " ('XIZZZ', (-0.08838834764831845+0j)),\n",
       " ('XXIXI', (0.08838834764831845+0j)),\n",
       " ('XXIXX', (-0.08838834764831845+0j)),\n",
       " ('XXIXZ', (-0.08838834764831845+0j)),\n",
       " ('XXIYY', (-0.08838834764831845+0j)),\n",
       " ('XXZXI', (0.08838834764831845+0j)),\n",
       " ('XXZXX', (-0.08838834764831845+0j)),\n",
       " ('XXZXZ', (-0.08838834764831845+0j)),\n",
       " ('XXZYY', (-0.08838834764831845+0j)),\n",
       " ('XYIXY', (0.08838834764831845-0j)),\n",
       " ('XYIYI', (0.08838834764831845-0j)),\n",
       " ('XYIYX', (-0.08838834764831845+0j)),\n",
       " ('XYIYZ', (-0.08838834764831845+0j)),\n",
       " ('XYZXY', (0.08838834764831845-0j)),\n",
       " ('XYZYI', (0.08838834764831845-0j)),\n",
       " ('XYZYX', (-0.08838834764831845+0j)),\n",
       " ('XYZYZ', (-0.08838834764831845+0j)),\n",
       " ('XZIII', (-0.08838834764831845+0j)),\n",
       " ('XZIIZ', (-0.08838834764831845+0j)),\n",
       " ('XZIZI', (-0.08838834764831845+0j)),\n",
       " ('XZIZZ', (-0.08838834764831845+0j)),\n",
       " ('XZXII', (-0.0625+0j)),\n",
       " ('XZXIX', (0.17075317547305482+0j)),\n",
       " ('XZXIZ', (-0.0625+0j)),\n",
       " ('XZXXI', (-0.10825317547305482+0j)),\n",
       " ('XZXXZ', (0.10825317547305482+0j)),\n",
       " ('XZXZI', (-0.0625+0j)),\n",
       " ('XZXZX', (-0.045753175473054825+0j)),\n",
       " ('XZXZZ', (-0.0625+0j)),\n",
       " ('XZYIY', (-0.045753175473054825+0j)),\n",
       " ('XZYYI', (0.10825317547305482-0j)),\n",
       " ('XZYYZ', (-0.10825317547305482+0j)),\n",
       " ('XZYZY', (0.17075317547305482-0j)),\n",
       " ('XZZII', (-0.08838834764831845+0j)),\n",
       " ('XZZIZ', (-0.08838834764831845+0j)),\n",
       " ('XZZZI', (-0.08838834764831845+0j)),\n",
       " ('XZZZZ', (-0.08838834764831845+0j)),\n",
       " ('YIXIY', (-0.045753175473054825+0j)),\n",
       " ('YIXYI', (0.10825317547305482-0j)),\n",
       " ('YIXYZ', (-0.10825317547305482+0j)),\n",
       " ('YIXZY', (0.17075317547305482-0j)),\n",
       " ('YIYII', (0.0625-0j)),\n",
       " ('YIYIX', (-0.17075317547305482+0j)),\n",
       " ('YIYIZ', (0.0625-0j)),\n",
       " ('YIYXI', (0.10825317547305482-0j)),\n",
       " ('YIYXZ', (-0.10825317547305482+0j)),\n",
       " ('YIYZI', (0.0625-0j)),\n",
       " ('YIYZX', (0.045753175473054825-0j)),\n",
       " ('YIYZZ', (0.0625-0j)),\n",
       " ('YXIXY', (0.08838834764831845-0j)),\n",
       " ('YXIYI', (0.08838834764831845-0j)),\n",
       " ('YXIYX', (-0.08838834764831845+0j)),\n",
       " ('YXIYZ', (-0.08838834764831845+0j)),\n",
       " ('YXZXY', (0.08838834764831845-0j)),\n",
       " ('YXZYI', (0.08838834764831845-0j)),\n",
       " ('YXZYX', (-0.08838834764831845+0j)),\n",
       " ('YXZYZ', (-0.08838834764831845+0j)),\n",
       " ('YYIXI', (-0.08838834764831845+0j)),\n",
       " ('YYIXX', (0.08838834764831845-0j)),\n",
       " ('YYIXZ', (0.08838834764831845-0j)),\n",
       " ('YYIYY', (0.08838834764831845+0j)),\n",
       " ('YYZXI', (-0.08838834764831845+0j)),\n",
       " ('YYZXX', (0.08838834764831845-0j)),\n",
       " ('YYZXZ', (0.08838834764831845-0j)),\n",
       " ('YYZYY', (0.08838834764831845+0j)),\n",
       " ('YZXIY', (-0.045753175473054825+0j)),\n",
       " ('YZXYI', (0.10825317547305482-0j)),\n",
       " ('YZXYZ', (-0.10825317547305482+0j)),\n",
       " ('YZXZY', (0.17075317547305482-0j)),\n",
       " ('YZYII', (0.0625-0j)),\n",
       " ('YZYIX', (-0.17075317547305482+0j)),\n",
       " ('YZYIZ', (0.0625-0j)),\n",
       " ('YZYXI', (0.10825317547305482-0j)),\n",
       " ('YZYXZ', (-0.10825317547305482+0j)),\n",
       " ('YZYZI', (0.0625-0j)),\n",
       " ('YZYZX', (0.045753175473054825-0j)),\n",
       " ('YZYZZ', (0.0625-0j))]"
      ]
     },
     "execution_count": 14,
     "metadata": {},
     "output_type": "execute_result"
    }
   ],
   "source": [
    "H_sparse_pauli.to_list()"
   ]
  },
  {
   "cell_type": "code",
   "execution_count": 26,
   "id": "297433e5-1c0b-4412-a339-35bd68dd4657",
   "metadata": {
    "tags": []
   },
   "outputs": [
    {
     "name": "stdout",
     "output_type": "stream",
     "text": [
      "Opening: https://platform.classiq.io/circuit/fd13640e-2bd7-4898-a505-125248fca81c?version=0.39.0\n"
     ]
    }
   ],
   "source": [
    "# creating the Sparse Pauli Op\n",
    "H_sparse_pauli = SparsePauliOp.from_operator(H_matrix)\n",
    "\n",
    "# State preparation in Classiq\n",
    "# importing the qmod file\n",
    "@qfunc\n",
    "def state_prep(unchanged: Output[QArray[QBit]]):\n",
    "    allocate(2*n+1, unchanged)\n",
    "    H(unchanged[0])\n",
    "    Z(unchanged[0])\n",
    "    \n",
    "@qfunc\n",
    "def main(io: Output[QArray[QBit]]) -> None:\n",
    "    state = prepare_state(probabilities=(initial_state**2).tolist(), bound=0.01, out=io)\n",
    "    Z(io[0])\n",
    "\n",
    "model = create_model(main)\n",
    "qprog = synthesize(model)\n",
    "show(qprog)"
   ]
  },
  {
   "cell_type": "code",
   "execution_count": null,
   "id": "6ce72091-81bf-4f60-b462-8bad54c9b4cc",
   "metadata": {},
   "outputs": [],
   "source": []
  }
 ],
 "metadata": {
  "kernelspec": {
   "display_name": "conda_braket",
   "language": "python",
   "name": "conda_braket"
  },
  "language_info": {
   "codemirror_mode": {
    "name": "ipython",
    "version": 3
   },
   "file_extension": ".py",
   "mimetype": "text/x-python",
   "name": "python",
   "nbconvert_exporter": "python",
   "pygments_lexer": "ipython3",
   "version": "3.10.14"
  },
  "widgets": {
   "application/vnd.jupyter.widget-state+json": {
    "state": {},
    "version_major": 2,
    "version_minor": 0
   }
  }
 },
 "nbformat": 4,
 "nbformat_minor": 5
}
