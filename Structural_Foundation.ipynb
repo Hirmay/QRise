{
 "cells": [
  {
   "cell_type": "markdown",
   "id": "22bf2924-7740-4ac3-8c59-95bcc6d329c6",
   "metadata": {},
   "source": [
    "## The Hamiltonian for the spring-ball oscillating system given in paper https://arxiv.org/pdf/2303.13012.pdf\n",
    "\n",
    "Following largely from section 3 of the paper"
   ]
  },
  {
   "cell_type": "markdown",
   "id": "905eed24-428b-49fc-8a93-4a6b36232c8b",
   "metadata": {},
   "source": [
    "- $ H = -\\begin{bmatrix} 0 & B \\\\ B^\\dagger & 0 \\end{bmatrix} $ where dim of $B$ is $N \\text{x} M$, therefore $dim(H) = (N+M) \\text{x} (N+M)$\n",
    "- We pad $B$ with zeros such that $dim (B) = N^2 \\text{x}N^2$ (according to appendix A1 and A4), therefore $dim(H) = 2N^2 \\text{x} 2N^2$\n",
    "- Now for $B$ we have, $BB^\\dagger = A$, $ \\begin{equation}\n",
    "  \\sqrt{M}B|j,k\\rangle =\n",
    "    \\begin{cases}\n",
    "      \\sqrt{k_{jj}}|j\\rangle & \\text{if } j=k \\\\\n",
    "      \\sqrt{k_{jk}}(|j\\rangle-|k\\rangle) & \\text{if } j<k\\\\\n",
    "    \\end{cases}       \n",
    "\\end{equation} $ and elements of $B^\\dagger$ are either $\\sqrt{k_{jk}/m_j}$ or $0$.\n",
    "\n",
    "- $ A$ = $\\sqrt{M}^{-1] F \\sqrt{M}^{-1} $.\n",
    "\n",
    "- $M$ is diagonal matrix of masses $(m_{jj}>0)$ and $F$ is the $N \\text{x} N$ matrix whose diagonal and off-diagonal entries are $f_{jj} = \\sum_k \\kappa_{jk}$ and $f_{jk} = -\\kappa_{jk}$,respectively. "
   ]
  },
  {
   "cell_type": "markdown",
   "id": "d07e4bb7-0714-49a5-9af4-d41b1b26a288",
   "metadata": {},
   "source": [
    "for the second point in $|j,k\\rangle$ state is in vector [00,11,22,33,01,02,03,12,13,23]"
   ]
  },
  {
   "cell_type": "markdown",
   "id": "61f2420e-8f7e-477d-97d5-c2f056c73148",
   "metadata": {},
   "source": [
    "#### Case : $$d = 1, E = 1, n = 2 \\implies N = 4, \\text{ no. of springs = 4 }, m_i = 1 \\forall i \\in [1,N], k_{i,j} \\in [1,4], j>i, \\forall (i,j) $$\n",
    "$$\\dot{\\vec{x}}(0) = \\begin{bmatrix} 1 \\\\ -1 \\\\ 0 \\\\  0 \\end{bmatrix} \\text{ and } \\vec{x} = \\begin{bmatrix} 0 \\\\ 0 \\\\ 0 \\\\ 0 \\end{bmatrix}$$ "
   ]
  },
  {
   "cell_type": "code",
   "execution_count": 141,
   "id": "10bb360f-ebfa-4f4a-9793-ddabab3757d1",
   "metadata": {
    "tags": []
   },
   "outputs": [],
   "source": [
    "import numpy as np\n",
    "import scipy as sc\n",
    "from qiskit.quantum_info import Statevector\n",
    "from qiskit.circuit.library import HGate\n",
    "from qiskit import QuantumCircuit"
   ]
  },
  {
   "cell_type": "code",
   "execution_count": 144,
   "id": "08c9cd43-b552-4d42-b3c8-8b4793b88c7a",
   "metadata": {
    "tags": []
   },
   "outputs": [],
   "source": [
    "class Hamiltonian_Formulation:\n",
    "    def __init__(self, n, K_matrix, M):\n",
    "        self.N = 2**n\n",
    "        self.K_matrix = K_matrix\n",
    "        self.M = M\n",
    "        \n",
    "    def compute_F_matrix(self):\n",
    "        N = self.N\n",
    "        K = self.K_matrix\n",
    "        # Matrix F\n",
    "        F = np.zeros((N,N))\n",
    "        for j in range(N):\n",
    "            for k in range(N):\n",
    "                if j==k:\n",
    "                    F[j][k] = sum(K[j]) \n",
    "                else:\n",
    "                    F[j][k] = -K[j][k]\n",
    "        self.F_matrix = F\n",
    "    \n",
    "    def compute_B_matrix(self):\n",
    "        N = self.N\n",
    "        K = self.K_matrix\n",
    "        sqM_B = np.zeros((N,int(N*(N+1)/2)))\n",
    "        count = 0 #this will keep track of the coloumn of B based on |j,k>\n",
    "        for j in range(N):\n",
    "            for k in range(N):\n",
    "                if j==k:\n",
    "                    sqM_B[j][k] = np.sqrt(K[j][j])\n",
    "                elif j<k:\n",
    "                    sqM_B[j][N+count] = np.sqrt(K[j][k])\n",
    "                    sqM_B[k][N+count] = -np.sqrt(K[j][k])\n",
    "                    count+=1\n",
    "        sqM_inv = np.linalg.inv(np.sqrt(M))\n",
    "        #B matrix\n",
    "        B = np.matmul(sqM_inv,sqM_B)\n",
    "        #B dagger matrix\n",
    "        B_dag = np.matrix(B).getH()\n",
    "        self.B_matrix = B\n",
    "        self.B_dag_matrix = B_dag\n",
    "        \n",
    "    def compute_Hamiltonian(self):\n",
    "        #calling compute_B_matrix\n",
    "        self.compute_B_matrix()\n",
    "        ## doing the padding\n",
    "        B = self.B_matrix\n",
    "        B_dag = self.B_dag_matrix\n",
    "        \n",
    "        pad_B = np.pad(B,((0,int(N**2-N)),(0,int(N**2-(N*(N+1)/2)))),\"constant\")\n",
    "        pad_B_dag = np.matrix(pad_B).getH()\n",
    "        temp1 = np.concatenate((0*np.identity(N**2),-pad_B),axis = 1)\n",
    "        temp2 = np.concatenate((-pad_B_dag, 0*np.identity(N**2)),axis = 1)\n",
    "        # getting the hamiltonian\n",
    "        H = np.concatenate((temp1,temp2),axis = 0)\n",
    "        self.H_matrix = H"
   ]
  },
  {
   "cell_type": "code",
   "execution_count": 154,
   "id": "d440bef5-3fcb-4a9c-8fcf-f593c7547815",
   "metadata": {
    "tags": []
   },
   "outputs": [
    {
     "name": "stdout",
     "output_type": "stream",
     "text": [
      "32\n"
     ]
    }
   ],
   "source": [
    "n = 2\n",
    "N = 2**n\n",
    "m = 1\n",
    "E = 1\n",
    "#mass matrix\n",
    "M = np.diag(np.full(N,m)) \n",
    "#K matrix (spring constants)\n",
    "k11 = 2\n",
    "k12 = 1\n",
    "k23 = 3\n",
    "k34 = 2\n",
    "K = np.array(([k11,k12,0,0],[k12,0,k23,0],[0,k23,0,k34],[0,0,k34,0]))\n",
    "\n",
    "\n",
    "ham_formulation = Hamiltonian_Formulation(n, K, M)\n",
    "ham_formulation.compute_Hamiltonian()\n",
    "H_matrix = ham_formulation.H_matrix\n",
    "H_matrix[1]\n",
    "print(len(H_matrix))"
   ]
  },
  {
   "cell_type": "markdown",
   "id": "210dde3e-0e47-40a5-996b-2a2fd6bb6569",
   "metadata": {},
   "source": [
    "## State Preparation"
   ]
  },
  {
   "cell_type": "code",
   "execution_count": 156,
   "id": "8fb1d30d-5b60-4cc1-a310-17a2f2b94802",
   "metadata": {
    "tags": []
   },
   "outputs": [
    {
     "name": "stdout",
     "output_type": "stream",
     "text": [
      "32\n"
     ]
    }
   ],
   "source": [
    "initial_state = np.array([1/np.sqrt(2),-1/np.sqrt(2)] + [0 for i in range(2*N**2-2)])\n",
    "print(len(initial_state))\n",
    "# use https://github.com/Qiskit/qiskit/issues/11735#issuecomment-1992145075 or Classiq\n",
    "initial_state\n",
    "\n",
    "qc = QuantumCircuit(2*n+1)\n",
    "qc.h(0)\n",
    "qc.z(0)\n",
    "\n",
    "init_state = Statevector.from_instruction(qc)"
   ]
  },
  {
   "cell_type": "markdown",
   "id": "29f70a6a-f63d-4c1b-b938-4aa54dfa8909",
   "metadata": {},
   "source": [
    "## Conditions for testing\n",
    "- t = 5\n",
    "- for n = 2, 5, 10\n",
    "- accuracy = 99%\n",
    "- note down accuracy, depth of circuit, number of gates (single and 2 qubit)"
   ]
  },
  {
   "cell_type": "code",
   "execution_count": 161,
   "id": "e9068ba0-9846-4e76-8928-ac1c5fa67324",
   "metadata": {
    "tags": []
   },
   "outputs": [],
   "source": [
    "t=5\n",
    "\n",
    "# exact_times = np.linspace(0, t, 101)\n",
    "# We define a slightly denser time mesh\n",
    "exact_times = np.linspace(0, t, 101)\n",
    "\n",
    "# We compute the exact evolution using the exp\n",
    "final_state = init_state.evolve(sc.linalg.expm(-1j * t * H_matrix)) "
   ]
  },
  {
   "cell_type": "code",
   "execution_count": 162,
   "id": "824d48c4-daa0-43c2-ab96-0421bf6615f9",
   "metadata": {
    "tags": []
   },
   "outputs": [
    {
     "data": {
      "text/plain": [
       "True"
      ]
     },
     "execution_count": 162,
     "metadata": {},
     "output_type": "execute_result"
    }
   ],
   "source": [
    "final_state.is_valid()"
   ]
  },
  {
   "cell_type": "code",
   "execution_count": null,
   "id": "297433e5-1c0b-4412-a339-35bd68dd4657",
   "metadata": {},
   "outputs": [],
   "source": []
  }
 ],
 "metadata": {
  "kernelspec": {
   "display_name": "conda_braket",
   "language": "python",
   "name": "conda_braket"
  },
  "language_info": {
   "codemirror_mode": {
    "name": "ipython",
    "version": 3
   },
   "file_extension": ".py",
   "mimetype": "text/x-python",
   "name": "python",
   "nbconvert_exporter": "python",
   "pygments_lexer": "ipython3",
   "version": "3.10.14"
  },
  "widgets": {
   "application/vnd.jupyter.widget-state+json": {
    "state": {},
    "version_major": 2,
    "version_minor": 0
   }
  }
 },
 "nbformat": 4,
 "nbformat_minor": 5
}
