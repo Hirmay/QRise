{
 "cells": [
  {
   "cell_type": "markdown",
   "id": "22bf2924-7740-4ac3-8c59-95bcc6d329c6",
   "metadata": {},
   "source": [
    "## The Hamiltonian for the spring-ball oscillating system given in paper https://arxiv.org/pdf/2303.13012.pdf\n",
    "\n",
    "Following largely from section 3 of the paper"
   ]
  },
  {
   "cell_type": "markdown",
   "id": "905eed24-428b-49fc-8a93-4a6b36232c8b",
   "metadata": {},
   "source": [
    "- $ H = -\\begin{bmatrix} 0 & B \\\\ B^\\dagger & 0 \\end{bmatrix} $ where dim of $B$ is $N \\text{x} M$, therefore $dim(H) = (N+M) \\text{x} (N+M)$\n",
    "- We pad $B$ with zeros such that $dim (B) = N^2 \\text{x}N^2$ (according to appendix A1 and A4), therefore $dim(H) = 2N^2 \\text{x} 2N^2$\n",
    "- Now for $B$ we have, $BB^\\dagger = A$, $ \\begin{equation}\n",
    "  \\sqrt{M}B|j,k\\rangle =\n",
    "    \\begin{cases}\n",
    "      \\sqrt{k_{jj}}|j\\rangle & \\text{if } j=k \\\\\n",
    "      \\sqrt{k_{jk}}(|j\\rangle-|k\\rangle) & \\text{if } j<k\\\\\n",
    "    \\end{cases}       \n",
    "\\end{equation} $ and elements of $B^\\dagger$ are either $\\sqrt{k_{jk}/m_j}$ or $0$.\n",
    "\n",
    "- $ A$ = $\\sqrt{M}^{-1] F \\sqrt{M}^{-1} $.\n",
    "\n",
    "- $M$ is diagonal matrix of masses $(m_{jj}>0)$ and $F$ is the $N \\text{x} N$ matrix whose diagonal and off-diagonal entries are $f_{jj} = \\sum_k \\kappa_{jk}$ and $f_{jk} = -\\kappa_{jk}$,respectively. "
   ]
  },
  {
   "cell_type": "markdown",
   "id": "d07e4bb7-0714-49a5-9af4-d41b1b26a288",
   "metadata": {},
   "source": [
    "for the second point in $|j,k\\rangle$ state is in vector [00,11,22,33,01,02,03,12,13,23]"
   ]
  },
  {
   "cell_type": "markdown",
   "id": "61f2420e-8f7e-477d-97d5-c2f056c73148",
   "metadata": {},
   "source": [
    "#### Case : $$d = 1, E = 1, n = 2 \\implies N = 4, \\text{ no. of springs = 4 }, m_i = 1 \\forall i \\in [1,N], k_{i,j} \\in [1,4], j>i, \\forall (i,j) $$\n",
    "$$\\dot{\\vec{x}}(0) = \\begin{bmatrix} 1 \\\\ -1 \\\\ 0 \\\\  0 \\end{bmatrix} \\text{ and } \\vec{x} = \\begin{bmatrix} 0 \\\\ 0 \\\\ 0 \\\\ 0 \\end{bmatrix}$$ "
   ]
  },
  {
   "cell_type": "code",
   "execution_count": 1,
   "id": "10bb360f-ebfa-4f4a-9793-ddabab3757d1",
   "metadata": {
    "tags": []
   },
   "outputs": [],
   "source": [
    "import numpy as np\n",
    "import scipy as sc\n",
    "from qiskit.quantum_info import Statevector\n",
    "from qiskit.circuit.library import HGate\n",
    "from qiskit import QuantumCircuit, qasm2\n",
    "from qiskit.quantum_info import SparsePauliOp\n",
    "from utils import Hamiltonian_Formulation\n",
    "import pennylane as qml\n",
    "from itertools import product\n",
    "from classiq import (\n",
    "    Output,\n",
    "    QArray,\n",
    "    QParam,\n",
    "    List,\n",
    "    QBit,\n",
    "    exponentiation_with_depth_constraint,\n",
    "    QNum,\n",
    "    control,\n",
    "    create_model,\n",
    "    execute,\n",
    "    prepare_state,\n",
    "    qfunc,\n",
    "    show,\n",
    "    synthesize,\n",
    "    H,\n",
    "    Output,\n",
    "    Z,\n",
    "    allocate,\n",
    "    qfunc,\n",
    "    suzuki_trotter,\n",
    "    PauliTerm,\n",
    "    Pauli,\n",
    "    QuantumProgram,\n",
    "    write_qmod,\n",
    "    Preferences,\n",
    "    set_preferences,\n",
    "    qdrift\n",
    ")\n",
    "\n",
    "from classiq import set_execution_preferences\n",
    "from classiq.execution import ExecutionPreferences\n",
    "\n",
    "import classiq\n",
    "from qiskit import qasm3\n",
    "\n",
    "\n",
    "# classiq.authenticate()"
   ]
  },
  {
   "cell_type": "code",
   "execution_count": 2,
   "id": "d440bef5-3fcb-4a9c-8fcf-f593c7547815",
   "metadata": {
    "tags": []
   },
   "outputs": [
    {
     "data": {
      "text/plain": [
       "matrix([[ 0.        ,  0.        ,  0.        ,  0.        ,  0.        ,\n",
       "          0.        ,  0.        ,  0.        ,  0.        ,  0.        ,\n",
       "          0.        ,  0.        ,  0.        ,  0.        ,  0.        ,\n",
       "          0.        , -0.        , -0.        , -0.        , -0.        ,\n",
       "          1.        , -0.        , -0.        , -1.73205081, -0.        ,\n",
       "         -0.        , -0.        , -0.        , -0.        , -0.        ,\n",
       "         -0.        , -0.        ]])"
      ]
     },
     "execution_count": 2,
     "metadata": {},
     "output_type": "execute_result"
    }
   ],
   "source": [
    "n = 2\n",
    "N = 2**n\n",
    "m = 1\n",
    "E = 1\n",
    "#mass matrix\n",
    "M = np.diag(np.full(N,m)) \n",
    "#K matrix (spring constants)\n",
    "k11 = 2\n",
    "k12 = 1\n",
    "k23 = 3\n",
    "k34 = 2\n",
    "K = np.array(([k11,k12,0,0],[k12,0,k23,0],[0,k23,0,k34],[0,0,k34,0]))\n",
    "\n",
    "\n",
    "ham_formulation = Hamiltonian_Formulation(n, K, M)\n",
    "ham_formulation.compute_Hamiltonian()\n",
    "H_matrix = ham_formulation.H_matrix\n",
    "H_matrix[1]\n",
    "# print(len(H_matrix))"
   ]
  },
  {
   "cell_type": "markdown",
   "id": "210dde3e-0e47-40a5-996b-2a2fd6bb6569",
   "metadata": {},
   "source": [
    "## State Preparation"
   ]
  },
  {
   "cell_type": "code",
   "execution_count": 3,
   "id": "8fb1d30d-5b60-4cc1-a310-17a2f2b94802",
   "metadata": {
    "tags": []
   },
   "outputs": [
    {
     "name": "stdout",
     "output_type": "stream",
     "text": [
      "32\n"
     ]
    },
    {
     "data": {
      "text/plain": [
       "array([ 0.70710678, -0.70710678,  0.        ,  0.        ,  0.        ,\n",
       "        0.        ,  0.        ,  0.        ,  0.        ,  0.        ,\n",
       "        0.        ,  0.        ,  0.        ,  0.        ,  0.        ,\n",
       "        0.        ,  0.        ,  0.        ,  0.        ,  0.        ,\n",
       "        0.        ,  0.        ,  0.        ,  0.        ,  0.        ,\n",
       "        0.        ,  0.        ,  0.        ,  0.        ,  0.        ,\n",
       "        0.        ,  0.        ])"
      ]
     },
     "execution_count": 3,
     "metadata": {},
     "output_type": "execute_result"
    }
   ],
   "source": [
    "initial_state = np.array([1/np.sqrt(2),-1/np.sqrt(2)] + [0 for i in range(2*N**2-2)])\n",
    "print(len(initial_state))\n",
    "# use https://github.com/Qiskit/qiskit/issues/11735#issuecomment-1992145075 or Classiq\n",
    "\n",
    "qc = QuantumCircuit(2*n+1)\n",
    "qc.h(0)\n",
    "qc.z(0)\n",
    "\n",
    "init_state = Statevector.from_instruction(qc)\n",
    "\n",
    "initial_state\n"
   ]
  },
  {
   "cell_type": "markdown",
   "id": "29f70a6a-f63d-4c1b-b938-4aa54dfa8909",
   "metadata": {},
   "source": [
    "## Conditions for testing\n",
    "- t = 5\n",
    "- for n = 2, 5, 10\n",
    "- accuracy = 99%\n",
    "- note down accuracy, depth of circuit, number of gates (single and 2 qubit)"
   ]
  },
  {
   "cell_type": "markdown",
   "id": "f7f8eed4-d543-4127-8384-4338f2e5f0db",
   "metadata": {},
   "source": [
    "## Computing the final state classically"
   ]
  },
  {
   "cell_type": "code",
   "execution_count": 4,
   "id": "e9068ba0-9846-4e76-8928-ac1c5fa67324",
   "metadata": {
    "tags": []
   },
   "outputs": [
    {
     "name": "stdout",
     "output_type": "stream",
     "text": [
      "[-0.57759303+0.j          0.43432998+0.j          0.32556339+0.j\n",
      " -0.27313207+0.j          0.        +0.j          0.        +0.j\n",
      "  0.        +0.j          0.        +0.j          0.        +0.j\n",
      "  0.        +0.j          0.        +0.j          0.        +0.j\n",
      "  0.        +0.j          0.        +0.j          0.        +0.j\n",
      "  0.        +0.j          0.        -0.02243082j  0.        +0.j\n",
      "  0.        +0.j          0.        +0.j          0.        +0.27112871j\n",
      "  0.        +0.j          0.        +0.j          0.        -0.3132481j\n",
      "  0.        +0.j          0.        +0.35357152j  0.        +0.j\n",
      "  0.        +0.j          0.        +0.j          0.        +0.j\n",
      "  0.        +0.j          0.        +0.j        ]\n"
     ]
    }
   ],
   "source": [
    "final_time=5\n",
    "\n",
    "# exact_times = np.linspace(0, t, 101)\n",
    "\n",
    "# We compute the exact evolution using the exp\n",
    "final_state = init_state.evolve(sc.linalg.expm(-1j * final_time * H_matrix))\n",
    "actual_state = qml.math.dm_from_state_vector(final_state.data)\n",
    "print(final_state.data)"
   ]
  },
  {
   "cell_type": "code",
   "execution_count": 5,
   "id": "824d48c4-daa0-43c2-ab96-0421bf6615f9",
   "metadata": {
    "tags": []
   },
   "outputs": [
    {
     "data": {
      "text/plain": [
       "True"
      ]
     },
     "execution_count": 5,
     "metadata": {},
     "output_type": "execute_result"
    }
   ],
   "source": [
    "final_state.is_valid()"
   ]
  },
  {
   "cell_type": "markdown",
   "id": "e996d588-6fe7-4ec3-8f2c-56c513ed80dd",
   "metadata": {},
   "source": [
    "## Computing the Hamiltonian simulation on Classiq"
   ]
  },
  {
   "cell_type": "markdown",
   "id": "068acca4-72b8-42cc-ae57-2464147c89d2",
   "metadata": {},
   "source": [
    "### State preparation using Classiq"
   ]
  },
  {
   "cell_type": "markdown",
   "id": "d09f4568-cc2c-45a5-90c7-afaa402d08b5",
   "metadata": {},
   "source": [
    "#### Obtaining the Sparse pauli op from qiskit"
   ]
  },
  {
   "cell_type": "code",
   "execution_count": 6,
   "id": "a4fa16dd-3724-4df8-8421-ecc9d2962795",
   "metadata": {
    "tags": []
   },
   "outputs": [],
   "source": [
    "H_sparse_pauli = SparsePauliOp.from_operator(H_matrix)"
   ]
  },
  {
   "cell_type": "markdown",
   "id": "a133d00f-91d6-4ae3-84ea-2e913d6746f8",
   "metadata": {},
   "source": [
    "### Converting the Hamiltonian into appropriate classiq form"
   ]
  },
  {
   "cell_type": "code",
   "execution_count": 7,
   "id": "1aaea419-9403-4e44-a762-84679d51d7e9",
   "metadata": {
    "tags": []
   },
   "outputs": [
    {
     "data": {
      "text/plain": [
       "struct_literal(PauliTerm, pauli=[Pauli.Z, Pauli.I, Pauli.I, Pauli.I, Pauli.X], coefficient=-0.0883883476)"
      ]
     },
     "execution_count": 7,
     "metadata": {},
     "output_type": "execute_result"
    }
   ],
   "source": [
    "paulis = []\n",
    "coeffs = []\n",
    "for i in range(len(H_sparse_pauli.paulis)):\n",
    "    pauli = []\n",
    "    coeffs.append(np.round(H_sparse_pauli.coeffs[i], 10).real)\n",
    "    for ind_pauli in H_sparse_pauli.paulis[i]:\n",
    "        match str(ind_pauli):\n",
    "            case \"I\":\n",
    "                pauli.append(Pauli.I)  \n",
    "            case \"X\":\n",
    "                pauli.append(Pauli.X) \n",
    "            case \"Y\":\n",
    "                pauli.append(Pauli.Y) \n",
    "            case \"Z\":\n",
    "                pauli.append(Pauli.Z) \n",
    "    paulis.append(pauli)\n",
    "\n",
    "paulis[2], coeffs[4]\n",
    "\n",
    "PauliTerm_list = []\n",
    "for i in range(len(paulis)):\n",
    "    PauliTerm_list.append(PauliTerm(pauli=paulis[i], coefficient=coeffs[i]))\n",
    "\n",
    "PauliTerm_list[1]"
   ]
  },
  {
   "cell_type": "markdown",
   "id": "7aca9102-d139-4362-8c98-a0bca25ff9f3",
   "metadata": {},
   "source": [
    "## Trotter-Suzuki Simulation"
   ]
  },
  {
   "cell_type": "code",
   "execution_count": 78,
   "id": "297433e5-1c0b-4412-a339-35bd68dd4657",
   "metadata": {
    "tags": []
   },
   "outputs": [
    {
     "name": "stdout",
     "output_type": "stream",
     "text": [
      "Opening: https://platform.classiq.io/circuit/2aa49729-b1d8-4a94-96c6-17577ecd8376?version=0.39.0\n"
     ]
    }
   ],
   "source": [
    "# creating the Sparse Pauli Op\n",
    "H_sparse_pauli = SparsePauliOp.from_operator(H_matrix)\n",
    "\n",
    "# State preparation in Classiq\n",
    "# importing the qmod file\n",
    "    \n",
    "@qfunc\n",
    "def main(io: Output[QArray[QBit]]) -> None:\n",
    "    allocate(2*n+1, io)\n",
    "    H(io[0])\n",
    "    Z(io[0])\n",
    "    suzuki_trotter(\n",
    "        PauliTerm_list,\n",
    "        evolution_coefficient=final_time,\n",
    "        order=6,\n",
    "        repetitions=1,\n",
    "        qbv=io,\n",
    "    )\n",
    "\n",
    "\n",
    "\n",
    "model = create_model(main)\n",
    "qprog_suzuki = synthesize(model)\n",
    "show(qprog_suzuki)"
   ]
  },
  {
   "cell_type": "markdown",
   "id": "8e944453-930b-4b54-9b21-b3536b4fd67e",
   "metadata": {},
   "source": [
    "## Exponentiation Simulation"
   ]
  },
  {
   "cell_type": "code",
   "execution_count": 82,
   "id": "1d0e1b01-e26e-46ce-8675-17674931802e",
   "metadata": {
    "tags": []
   },
   "outputs": [
    {
     "name": "stdout",
     "output_type": "stream",
     "text": [
      "Opening: https://platform.classiq.io/circuit/08af3391-37e6-4ee1-ae16-ac693793ece7?version=0.39.0\n"
     ]
    }
   ],
   "source": [
    "@qfunc\n",
    "def main(io: Output[QArray[QBit]]) -> None:\n",
    "    allocate(2*n+1, io)\n",
    "    H(io[0])\n",
    "    Z(io[0])\n",
    "    exponentiation_with_depth_constraint(\n",
    "        PauliTerm_list,\n",
    "        evolution_coefficient=final_time,\n",
    "        max_depth=3*10**4,\n",
    "        qbv=io,\n",
    "    )\n",
    "\n",
    "model = create_model(main)\n",
    "# write_qmod(model, \"exponentiation\")\n",
    "qprog_exponentiation = synthesize(model)\n",
    "show(qprog_exponentiation)"
   ]
  },
  {
   "cell_type": "markdown",
   "id": "85189601-2388-4d73-95e7-f2e473ddcf57",
   "metadata": {},
   "source": [
    "## Qdrift Simulation"
   ]
  },
  {
   "cell_type": "code",
   "execution_count": 76,
   "id": "34d924d7-3b25-4ace-b460-1e2cbf6320f5",
   "metadata": {
    "tags": []
   },
   "outputs": [
    {
     "name": "stdout",
     "output_type": "stream",
     "text": [
      "Opening: https://platform.classiq.io/circuit/dd6f11b0-ff1a-405d-bbf5-fc4df6eebe47?version=0.39.0\n"
     ]
    }
   ],
   "source": [
    "@qfunc\n",
    "def main(io: Output[QArray[QBit]]) -> None:\n",
    "    allocate(2*n+1, io)\n",
    "    H(io[2*n])\n",
    "    Z(io[2*n])\n",
    "    qdrift(\n",
    "        PauliTerm_list,\n",
    "        evolution_coefficient=final_time,\n",
    "        num_qdrift=100,\n",
    "        qbv=io,\n",
    "    )\n",
    "\n",
    "preferences = Preferences(\n",
    "    output_format=[\"qasm\"], qasm3=True)\n",
    "model = create_model(main)\n",
    "model = set_preferences(model, preferences)\n",
    "write_qmod(model, \"qdrift\")\n",
    "qprog_qdrift = synthesize(model)\n",
    "show(qprog_qdrift)"
   ]
  },
  {
   "cell_type": "code",
   "execution_count": 66,
   "id": "bd5221af-8a12-46c4-847a-0997ab5d2d0c",
   "metadata": {
    "tags": []
   },
   "outputs": [],
   "source": [
    "# Converting to qasm to get the results\n",
    "qasm_prog_suzuki = QuantumProgram.from_qprog(qprog_suzuki).qasm\n",
    "qasm_prog_exp = QuantumProgram.from_qprog(qprog_exponentiation).qasm\n",
    "qasm_prog_qdrift = QuantumProgram.from_qprog(qprog_qdrift).qasm"
   ]
  },
  {
   "cell_type": "code",
   "execution_count": 67,
   "id": "0a944596-7aeb-4d96-9515-7aead19cd213",
   "metadata": {
    "tags": []
   },
   "outputs": [],
   "source": [
    "final_qc = qasm3.loads(qasm_prog_exp)"
   ]
  },
  {
   "cell_type": "markdown",
   "id": "266a893e-19ed-47ce-84b7-678a3fd74f9f",
   "metadata": {},
   "source": [
    "## Comparisions in PennyLane (doesn't work because of some) "
   ]
  },
  {
   "cell_type": "code",
   "execution_count": 68,
   "id": "d48b39c6-e853-454a-9ca3-66e7e3545243",
   "metadata": {
    "tags": []
   },
   "outputs": [
    {
     "data": {
      "text/plain": [
       "array([-0.300767  -0.31187127j,  0.25936981+0.30786196j,\n",
       "        0.00299646+0.00135447j, -0.00175121-0.02532987j,\n",
       "        0.00157199+0.00480421j,  0.07373641-0.00855635j,\n",
       "        0.00044738+0.0119319j , -0.00235744+0.00481644j,\n",
       "        0.15843731-0.22973677j,  0.01411653+0.0012649j ,\n",
       "        0.00323765-0.01121618j, -0.00123869-0.00320568j,\n",
       "       -0.00724257+0.02405776j,  0.01777338-0.03231287j,\n",
       "       -0.0029071 +0.01984245j, -0.0006701 -0.00353169j,\n",
       "        0.2726311 -0.31241731j,  0.01848249+0.01324683j,\n",
       "        0.005246  +0.00158523j, -0.37884941+0.26180912j,\n",
       "       -0.00089041+0.00125196j,  0.01253992+0.05322387j,\n",
       "        0.00245262-0.0127263j ,  0.00326578-0.00239188j,\n",
       "       -0.36553061+0.02145324j,  0.00300341+0.00880313j,\n",
       "        0.00360728-0.00943992j,  0.00659029-0.00556003j,\n",
       "        0.00258505+0.00767036j, -0.18142076+0.08990994j,\n",
       "       -0.00104797+0.00831595j,  0.00243163-0.00475988j])"
      ]
     },
     "execution_count": 68,
     "metadata": {},
     "output_type": "execute_result"
    }
   ],
   "source": [
    "Statevector.from_instruction(final_qc).data"
   ]
  },
  {
   "cell_type": "code",
   "execution_count": 69,
   "id": "2173a5b9-2f30-4905-9b92-790f8942d822",
   "metadata": {
    "tags": []
   },
   "outputs": [],
   "source": [
    "obtained_state = qml.math.dm_from_state_vector(Statevector.from_instruction(final_qc).data)"
   ]
  },
  {
   "cell_type": "code",
   "execution_count": 70,
   "id": "277b6a50-f1e6-4bd3-960c-4024d5ab9dcf",
   "metadata": {
    "tags": []
   },
   "outputs": [
    {
     "data": {
      "text/plain": [
       "0.19669544309626102"
      ]
     },
     "execution_count": 70,
     "metadata": {},
     "output_type": "execute_result"
    }
   ],
   "source": [
    "qml.math.fidelity(obtained_state, actual_state)"
   ]
  },
  {
   "cell_type": "code",
   "execution_count": null,
   "id": "6edaaf21-9893-4b5d-8853-03ab3dfa934f",
   "metadata": {},
   "outputs": [],
   "source": []
  }
 ],
 "metadata": {
  "kernelspec": {
   "display_name": "conda_braket",
   "language": "python",
   "name": "conda_braket"
  },
  "language_info": {
   "codemirror_mode": {
    "name": "ipython",
    "version": 3
   },
   "file_extension": ".py",
   "mimetype": "text/x-python",
   "name": "python",
   "nbconvert_exporter": "python",
   "pygments_lexer": "ipython3",
   "version": "3.10.14"
  },
  "widgets": {
   "application/vnd.jupyter.widget-state+json": {
    "state": {},
    "version_major": 2,
    "version_minor": 0
   }
  }
 },
 "nbformat": 4,
 "nbformat_minor": 5
}
