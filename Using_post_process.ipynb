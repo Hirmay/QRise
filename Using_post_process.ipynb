{
 "cells": [
  {
   "cell_type": "code",
   "execution_count": 1,
   "metadata": {},
   "outputs": [],
   "source": [
    "import Post_process as ps\n",
    "import numpy as np"
   ]
  },
  {
   "cell_type": "code",
   "execution_count": 2,
   "metadata": {},
   "outputs": [],
   "source": [
    "system = ps.post_processing()\n",
    "out_probs_comp = np.array(([1/8,1/8,1/2,1/8,1/8,0,0,0]))\n",
    "out_probs_x = np.array(([0,1/4,1/4,1/2,0,0,0,0]))"
   ]
  },
  {
   "cell_type": "code",
   "execution_count": 3,
   "metadata": {},
   "outputs": [
    {
     "data": {
      "text/plain": [
       "{'Equations': [x0**2/2 - 0.5, (x0 - x1)**2/2 - 0.125, x1**2/2 - 0.125],\n",
       " 'Solutions': [{x0: -1.00000000000000, x1: -0.500000000000000},\n",
       "  {x0: 1.00000000000000, x1: 0.500000000000000}]}"
      ]
     },
     "execution_count": 3,
     "metadata": {},
     "output_type": "execute_result"
    }
   ],
   "source": [
    "system.post_process_pe(out_probs_comp)"
   ]
  },
  {
   "cell_type": "code",
   "execution_count": 4,
   "metadata": {},
   "outputs": [
    {
     "data": {
      "text/plain": [
       "{'Equations': [(v0 + v1)**2/4, (v0 - v1)**2/4 - 0.25],\n",
       " 'Solutions': [{v0: -0.500000000000000, v1: 0.500000000000000},\n",
       "  {v0: 0.500000000000000, v1: -0.500000000000000}]}"
      ]
     },
     "execution_count": 4,
     "metadata": {},
     "output_type": "execute_result"
    }
   ],
   "source": [
    "system.post_process_ke(out_probs_x,out_probs_comp)"
   ]
  },
  {
   "cell_type": "code",
   "execution_count": null,
   "metadata": {},
   "outputs": [],
   "source": []
  }
 ],
 "metadata": {
  "kernelspec": {
   "display_name": "Python 3",
   "language": "python",
   "name": "python3"
  },
  "language_info": {
   "codemirror_mode": {
    "name": "ipython",
    "version": 3
   },
   "file_extension": ".py",
   "mimetype": "text/x-python",
   "name": "python",
   "nbconvert_exporter": "python",
   "pygments_lexer": "ipython3",
   "version": "3.11.9"
  }
 },
 "nbformat": 4,
 "nbformat_minor": 2
}
