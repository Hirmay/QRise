{
 "cells": [
  {
   "cell_type": "markdown",
   "id": "cb01213b-2936-4143-b993-b0be4a00d6d1",
   "metadata": {},
   "source": [
    "## Here I attempt to classical solve and then create and quantum state of system at time t for the spring-ball oscillating system given in paper https://arxiv.org/pdf/2303.13012.pdf"
   ]
  },
  {
   "cell_type": "code",
   "execution_count": 1,
   "id": "a5a858c5-138d-4e10-90b2-5d7e9d2d5210",
   "metadata": {
    "tags": []
   },
   "outputs": [],
   "source": [
    "import numpy as np\n",
    "from scipy.integrate import odeint"
   ]
  },
  {
   "cell_type": "code",
   "execution_count": 8,
   "id": "65e0ecca-5f9f-4c2e-ad66-72c1afc00d9f",
   "metadata": {},
   "outputs": [],
   "source": [
    "#this is the ODE model for the classical solver for spring mass system\n",
    "def spring_mass_system(y,t, M, K,N):\n",
    "\n",
    "    # Extract positions and velocities\n",
    "    positions = y[:N]\n",
    "    velocities = y[N:]\n",
    "\n",
    "    # Compute derivatives\n",
    "    dydt = np.zeros_like(y)\n",
    "    dydt[:N] = velocities\n",
    "    dydt[N:] = np.dot(np.linalg.inv(M), -np.dot(K, positions))\n",
    "\n",
    "    return dydt"
   ]
  },
  {
   "cell_type": "markdown",
   "id": "fe0c4e1c-e563-4f24-9c3a-07f00231cd35",
   "metadata": {},
   "source": [
    "#### Case : $$d = 1, E = 1, n = 2 \\implies N = 4, \\text{ no. of springs = 4 }, m_i = 1 \\forall i \\in [1,N], k_{i,j} \\in [1,4], j>i, \\forall (i,j) $$\n",
    "$$\\dot{\\vec{x}}(0) = \\begin{bmatrix} 1 \\\\ -1 \\\\ 0 \\\\  0 \\end{bmatrix} \\text{ and } \\vec{x} = \\begin{bmatrix} 0 \\\\ 0 \\\\ 0 \\\\ 0 \\end{bmatrix}$$ "
   ]
  },
  {
   "cell_type": "code",
   "execution_count": 9,
   "id": "0a697173-5a97-424b-9fba-edfb45182003",
   "metadata": {
    "tags": []
   },
   "outputs": [],
   "source": [
    "#Initial conditions and inputs\n",
    "N = 4\n",
    "m = 1\n",
    "E = 1\n",
    "#mass matrix\n",
    "M = np.diag(np.full(N,m)) \n",
    "#K matrix (spring constants)\n",
    "k11 = 2\n",
    "k12 = 1\n",
    "k23 = 3\n",
    "k34 = 2\n",
    "K = np.array(([k11,k12,0,0],[k12,0,k23,0],[0,k23,0,k34],[0,0,k34,0]))\n",
    "\n",
    "#position vector\n",
    "x = np.zeros(4)\n",
    "#velocity vector\n",
    "x_dot = np.array([1,-1,0,0])\n",
    "\n",
    "#initial condition\n",
    "initial_y = np.concatenate((x,x_dot))\n",
    "\n",
    "# Time vector\n",
    "t = np.linspace(0, 10, 1000)"
   ]
  },
  {
   "cell_type": "code",
   "execution_count": 10,
   "id": "6973e422-5dcf-48a9-b748-eb66aa8e4c5f",
   "metadata": {
    "tags": []
   },
   "outputs": [
    {
     "name": "stdout",
     "output_type": "stream",
     "text": [
      "Positions:\n",
      "[[ 0.00000000e+00  0.00000000e+00  0.00000000e+00  0.00000000e+00]\n",
      " [ 1.00098383e-02 -1.00101817e-02  5.15133699e-07 -6.72369985e-12]\n",
      " [ 2.00186857e-02 -2.00213547e-02  4.00330757e-06 -1.83207132e-10]\n",
      " ...\n",
      " [ 3.88655597e+06 -2.20292375e+07  2.56393983e+07 -1.39797325e+07]\n",
      " [ 3.96178526e+06 -2.24556425e+07  2.61356831e+07 -1.42503295e+07]\n",
      " [ 4.03847072e+06 -2.28903010e+07  2.66415742e+07 -1.45261642e+07]]\n",
      "\n",
      "Velocities:\n",
      "[[ 1.00000000e+00 -1.00000000e+00  0.00000000e+00  0.00000000e+00]\n",
      " [ 9.99949901e-01 -1.00005010e+00  1.50301900e-04 -2.89031044e-09]\n",
      " [ 9.99799620e-01 -1.00020046e+00  6.01222678e-04 -4.17352808e-08]\n",
      " ...\n",
      " [ 7.44359605e+06 -4.21908261e+07  4.91051239e+07 -2.67743358e+07]\n",
      " [ 7.58767672e+06 -4.30074857e+07  5.00556192e+07 -2.72925891e+07]\n",
      " [ 7.73454627e+06 -4.38399529e+07  5.10245126e+07 -2.78208738e+07]]\n"
     ]
    }
   ],
   "source": [
    "# Solve the ODE\n",
    "solution = odeint(spring_mass_system, initial_y, t, args=(M, K,N))\n",
    "\n",
    "# Extract positions and velocities from the solution\n",
    "positions = solution[:, :N]\n",
    "velocities = solution[:, N:]\n",
    "\n",
    "# Print the results\n",
    "print(\"Positions:\")\n",
    "print(positions)\n",
    "print(\"\\nVelocities:\")\n",
    "print(velocities)"
   ]
  },
  {
   "cell_type": "code",
   "execution_count": 11,
   "id": "c50ca985-886b-41e9-a1fa-4dd73797775b",
   "metadata": {
    "tags": []
   },
   "outputs": [
    {
     "name": "stdout",
     "output_type": "stream",
     "text": [
      "At time t =  0.050050050050050046 the position vector is :  [ 5.00291650e-02 -5.00709644e-02  6.26870808e-05 -1.60149244e-08]  and velocity vector is :  [ 9.98748283e-01 -1.00125460e+00  3.75829896e-03 -1.57386796e-06]\n"
     ]
    }
   ],
   "source": [
    "print(\"At time t = \", t[5], \"the position vector is : \", positions[5], \" and velocity vector is : \", velocities[5])"
   ]
  },
  {
   "cell_type": "code",
   "execution_count": null,
   "id": "6456cf4e-de93-42a5-bd9e-d46d1e87dfd8",
   "metadata": {},
   "outputs": [],
   "source": []
  }
 ],
 "metadata": {
  "kernelspec": {
   "display_name": "Qiskit v1.0.2 (ipykernel)",
   "language": "python",
   "name": "python3"
  },
  "language_info": {
   "codemirror_mode": {
    "name": "ipython",
    "version": 3
   },
   "file_extension": ".py",
   "mimetype": "text/x-python",
   "name": "python",
   "nbconvert_exporter": "python",
   "pygments_lexer": "ipython3",
   "version": "3.10.8"
  },
  "widgets": {
   "application/vnd.jupyter.widget-state+json": {
    "state": {},
    "version_major": 2,
    "version_minor": 0
   }
  }
 },
 "nbformat": 4,
 "nbformat_minor": 5
}
