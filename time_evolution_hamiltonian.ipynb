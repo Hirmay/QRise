{
  "nbformat": 4,
  "nbformat_minor": 0,
  "metadata": {
    "colab": {
      "provenance": []
    },
    "kernelspec": {
      "name": "python3",
      "display_name": "Python 3"
    },
    "language_info": {
      "name": "python"
    }
  },
  "cells": [
    {
      "cell_type": "code",
      "execution_count": 1,
      "metadata": {
        "id": "508IjoIaYlMT"
      },
      "outputs": [],
      "source": [
        "import numpy as np\n",
        "import pandas as pd"
      ]
    },
    {
      "cell_type": "code",
      "source": [
        "k1 = 20\n",
        "k2 = 30\n",
        "k3 = 20\n",
        "\n",
        "m1 = 1\n",
        "m2 = 1"
      ],
      "metadata": {
        "id": "FpGnd6HZYuXl"
      },
      "execution_count": 2,
      "outputs": []
    },
    {
      "cell_type": "code",
      "source": [
        "# laplacian\n",
        "F = np.array([[k1+k2, -k2],[-k2, k2+k3]])\n",
        "print(F)"
      ],
      "metadata": {
        "colab": {
          "base_uri": "https://localhost:8080/"
        },
        "id": "YtEhfztxYzGx",
        "outputId": "6f822382-0266-4155-ae20-ef39ab86ba4b"
      },
      "execution_count": 3,
      "outputs": [
        {
          "output_type": "stream",
          "name": "stdout",
          "text": [
            "[[ 50 -30]\n",
            " [-30  50]]\n"
          ]
        }
      ]
    },
    {
      "cell_type": "code",
      "source": [
        "#incidence matrix\n",
        "B = np.array([[k1,-k2,0],[0,k2,-k3]])\n",
        "print(B)"
      ],
      "metadata": {
        "colab": {
          "base_uri": "https://localhost:8080/"
        },
        "id": "N4L4WtSRZErm",
        "outputId": "df3c2f7d-0777-48c3-d524-1555db2219ee"
      },
      "execution_count": 4,
      "outputs": [
        {
          "output_type": "stream",
          "name": "stdout",
          "text": [
            "[[ 20 -30   0]\n",
            " [  0  30 -20]]\n"
          ]
        }
      ]
    },
    {
      "cell_type": "code",
      "source": [
        "M = np.array([[m1,0],[0,m2]])\n",
        "print(M)\n",
        "M_sqrt = np.sqrt(M)\n",
        "print(M_sqrt)"
      ],
      "metadata": {
        "colab": {
          "base_uri": "https://localhost:8080/"
        },
        "id": "OQZHH1F8aMrB",
        "outputId": "3130020d-eeb9-4a2e-b1e5-d70b82a5fbf5"
      },
      "execution_count": 5,
      "outputs": [
        {
          "output_type": "stream",
          "name": "stdout",
          "text": [
            "[[1 0]\n",
            " [0 1]]\n",
            "[[1. 0.]\n",
            " [0. 1.]]\n"
          ]
        }
      ]
    },
    {
      "cell_type": "code",
      "source": [
        "B_new = np.matmul(np.linalg.inv(M),B)\n",
        "print(B_new)"
      ],
      "metadata": {
        "colab": {
          "base_uri": "https://localhost:8080/"
        },
        "id": "nk5r0aeeaaPj",
        "outputId": "37fdb57c-40ed-476c-a2ef-a3004d211f9e"
      },
      "execution_count": 7,
      "outputs": [
        {
          "output_type": "stream",
          "name": "stdout",
          "text": [
            "[[ 20. -30.   0.]\n",
            " [  0.  30. -20.]]\n"
          ]
        }
      ]
    },
    {
      "cell_type": "code",
      "source": [
        "B_new_dagger = B_new.conj().T\n",
        "print(B_new_dagger)"
      ],
      "metadata": {
        "colab": {
          "base_uri": "https://localhost:8080/"
        },
        "id": "tkSVOIiBaknA",
        "outputId": "8fc2a910-6aeb-437c-9b1e-fdc57627fb8c"
      },
      "execution_count": 9,
      "outputs": [
        {
          "output_type": "stream",
          "name": "stdout",
          "text": [
            "[[ 20.   0.]\n",
            " [-30.  30.]\n",
            " [  0. -20.]]\n"
          ]
        }
      ]
    },
    {
      "cell_type": "code",
      "source": [
        "Zeros_new = np.array([[0,0],[0,0]])\n",
        "Zeros_new_dagger = np.array([[0,0,0],[0,0,0],[0,0,0]])\n",
        "print(Zeros_new)\n",
        "print(Zeros_new_dagger)"
      ],
      "metadata": {
        "colab": {
          "base_uri": "https://localhost:8080/"
        },
        "id": "bnYSBs1pbd1Z",
        "outputId": "e00ace80-67c8-4118-a6ec-2ffdadd1926e"
      },
      "execution_count": 10,
      "outputs": [
        {
          "output_type": "stream",
          "name": "stdout",
          "text": [
            "[[0 0]\n",
            " [0 0]]\n",
            "[[0 0 0]\n",
            " [0 0 0]\n",
            " [0 0 0]]\n"
          ]
        }
      ]
    },
    {
      "cell_type": "code",
      "source": [
        "H = -1 * np.array([[0,0,k1,-k2,0],[0,0,0,k2,-k3],[k1,0,0,0,0],[-k2,k2,0,0,0],[0,-k3,0,0,0]])\n",
        "print(H)"
      ],
      "metadata": {
        "colab": {
          "base_uri": "https://localhost:8080/"
        },
        "id": "xFROrmLGcTnu",
        "outputId": "d09e7373-7487-495a-e17e-d8d48a2169f6"
      },
      "execution_count": 14,
      "outputs": [
        {
          "output_type": "stream",
          "name": "stdout",
          "text": [
            "[[  0   0 -20  30   0]\n",
            " [  0   0   0 -30  20]\n",
            " [-20   0   0   0   0]\n",
            " [ 30 -30   0   0   0]\n",
            " [  0  20   0   0   0]]\n"
          ]
        }
      ]
    },
    {
      "cell_type": "code",
      "source": [],
      "metadata": {
        "id": "HCQk1i4JckKg"
      },
      "execution_count": null,
      "outputs": []
    }
  ]
}