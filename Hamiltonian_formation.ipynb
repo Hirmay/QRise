{
 "cells": [
  {
   "cell_type": "markdown",
   "id": "22bf2924-7740-4ac3-8c59-95bcc6d329c6",
   "metadata": {},
   "source": [
    "## Here I attempt to define the Hamiltonian for the spring-ball oscillating system given in paper https://arxiv.org/pdf/2303.13012.pdf\n",
    "\n",
    "Following largely from section 3 of the paper"
   ]
  },
  {
   "cell_type": "markdown",
   "id": "905eed24-428b-49fc-8a93-4a6b36232c8b",
   "metadata": {},
   "source": [
    "- $ H = -\\begin{bmatrix} 0 & B \\\\ B^\\dagger & 0 \\end{bmatrix} $ where dim of $B$ is $N \\text{x} M$, therefore $dim(H) = (N+M) \\text{x} (N+M)$\n",
    "- We pad $B$ with zeros such that $dim (B) = N^2 \\text{x}N^2$ (according to appendix A1 and A4), therefore $dim(H) = 2N^2 \\text{x} 2N^2$\n",
    "- Now for $B$ we have, $BB^\\dagger = A$, $ \\begin{equation}\n",
    "  \\sqrt{M}B|j,k\\rangle =\n",
    "    \\begin{cases}\n",
    "      \\sqrt{k_{jj}}|j\\rangle & \\text{if } j=k \\\\\n",
    "      \\sqrt{k_{jk}}(|j\\rangle-|k\\rangle) & \\text{if } j<k\\\\\n",
    "    \\end{cases}       \n",
    "\\end{equation} $ and elements of $B^\\dagger$ are either $\\sqrt{k_{jk}/m_j}$ or $0$.\n",
    "\n",
    "- $ A$ = $\\sqrt{M}^{-1] F \\sqrt{M}^{-1} $.\n",
    "\n",
    "- $M$ is diagonal matrix of masses $(m_{jj}>0)$ and $F$ is the $N \\text{x} N$ matrix whose diagonal and off-diagonal entries are $f_{jj} = \\sum_k \\kappa_{jk}$ and $f_{jk} = -\\kappa_{jk}$,respectively. "
   ]
  },
  {
   "cell_type": "markdown",
   "id": "d07e4bb7-0714-49a5-9af4-d41b1b26a288",
   "metadata": {},
   "source": [
    "for the second point in $|j,k\\rangle$ state is in vector [00,11,22,33,01,02,03,12,13,23]"
   ]
  },
  {
   "cell_type": "markdown",
   "id": "61f2420e-8f7e-477d-97d5-c2f056c73148",
   "metadata": {},
   "source": [
    "#### Case : $$d = 1, E = 1, n = 2 \\implies N = 4, \\text{ no. of springs = 4 }, m_i = 1 \\forall i \\in [1,N], k_{i,j} \\in [1,4], j>i, \\forall (i,j) $$\n",
    "$$\\dot{\\vec{x}}(0) = \\begin{bmatrix} 1 \\\\ -1 \\\\ 0 \\\\  0 \\end{bmatrix} \\text{ and } \\vec{x} = \\begin{bmatrix} 0 \\\\ 0 \\\\ 0 \\\\ 0 \\end{bmatrix}$$ "
   ]
  },
  {
   "cell_type": "code",
   "execution_count": 1,
   "id": "10bb360f-ebfa-4f4a-9793-ddabab3757d1",
   "metadata": {
    "tags": []
   },
   "outputs": [],
   "source": [
    "import numpy as np"
   ]
  },
  {
   "cell_type": "code",
   "execution_count": 2,
   "id": "115238e8-b536-40fe-af10-f355f046652a",
   "metadata": {
    "tags": []
   },
   "outputs": [
    {
     "name": "stdout",
     "output_type": "stream",
     "text": [
      "[[1 0 0 0]\n",
      " [0 1 0 0]\n",
      " [0 0 1 0]\n",
      " [0 0 0 1]] 4 4\n",
      "[[2 1 0 0]\n",
      " [1 0 3 0]\n",
      " [0 3 0 2]\n",
      " [0 0 2 0]] 4 4\n",
      "[[ 3. -1.  0.  0.]\n",
      " [-1.  4. -3.  0.]\n",
      " [ 0. -3.  5. -2.]\n",
      " [ 0.  0. -2.  2.]] 4 4\n"
     ]
    }
   ],
   "source": [
    "N = 4\n",
    "m = 1\n",
    "E = 1\n",
    "#mass matrix\n",
    "M = np.diag(np.full(N,m)) \n",
    "#K matrix (spring constants)\n",
    "k11 = 2\n",
    "k12 = 1\n",
    "k23 = 3\n",
    "k34 = 2\n",
    "K = np.array(([k11,k12,0,0],[k12,0,k23,0],[0,k23,0,k34],[0,0,k34,0]))\n",
    "\n",
    "# Matrix F\n",
    "F = np.zeros((N,N))\n",
    "for j in range(N):\n",
    "    for k in range(N):\n",
    "        if j==k:\n",
    "            F[j][k] = sum(K[j]) \n",
    "        else:\n",
    "            F[j][k] = -K[j][k]\n",
    "\n",
    "print(M, len(M), len(M[0]))\n",
    "print(K, len(K), len(K[0]))\n",
    "print(F, len(F), len(F[0]))"
   ]
  },
  {
   "cell_type": "code",
   "execution_count": 4,
   "id": "9448b90f-1cbd-442f-917f-170f9920bf0a",
   "metadata": {
    "tags": []
   },
   "outputs": [
    {
     "name": "stdout",
     "output_type": "stream",
     "text": [
      "[[ 1.41421356  0.          0.          0.          1.          0.\n",
      "   0.          0.          0.          0.        ]\n",
      " [ 0.          0.          0.          0.         -1.          0.\n",
      "   0.          1.73205081  0.          0.        ]\n",
      " [ 0.          0.          0.          0.          0.         -0.\n",
      "   0.         -1.73205081  0.          1.41421356]\n",
      " [ 0.          0.          0.          0.          0.          0.\n",
      "  -0.          0.         -0.         -1.41421356]]\n"
     ]
    }
   ],
   "source": [
    "#sqrt(M)B Matrix\n",
    "sqM_B = np.zeros((N,int(N*(N+1)/2)))\n",
    "count = 0 #this will keep track of the coloumn of B based on |j,k>\n",
    "for j in range(N):\n",
    "    for k in range(N):\n",
    "        if j==k:\n",
    "            sqM_B[j][k] = np.sqrt(K[j][j])\n",
    "        elif j<k:\n",
    "            sqM_B[j][N+count] = np.sqrt(K[j][k])\n",
    "            sqM_B[k][N+count] = -np.sqrt(K[j][k])\n",
    "            count+=1\n",
    "\n",
    "print(sqM_B)"
   ]
  },
  {
   "cell_type": "code",
   "execution_count": 70,
   "id": "e3aee30c-4d8b-47eb-b4af-7d771011a908",
   "metadata": {
    "tags": []
   },
   "outputs": [
    {
     "name": "stdout",
     "output_type": "stream",
     "text": [
      "[[ 1.41421356  0.          0.          0.        ]\n",
      " [ 0.          0.          0.          0.        ]\n",
      " [ 0.          0.          0.          0.        ]\n",
      " [ 0.          0.          0.          0.        ]\n",
      " [ 1.         -1.          0.          0.        ]\n",
      " [ 0.          0.          0.          0.        ]\n",
      " [ 0.          0.          0.          0.        ]\n",
      " [ 0.          1.73205081 -1.73205081  0.        ]\n",
      " [ 0.          0.          0.          0.        ]\n",
      " [ 0.          0.          1.41421356 -1.41421356]]\n"
     ]
    }
   ],
   "source": [
    "#check if sqM_B is correct\n",
    "state_jk_list = np.identity(10)\n",
    "out = np.matmul(sqM_B,state_jk_list)\n",
    "print(np.transpose(out))"
   ]
  },
  {
   "cell_type": "markdown",
   "id": "68cc1c87-e4a8-4c5a-9d25-996d9f682e97",
   "metadata": {},
   "source": [
    " Matrices B and B_dag\n",
    " \n",
    " Since we have $\\sqrt{M}B$ we can get $B$ by $\\sqrt{M}^{-1}\\sqrt{M}B$"
   ]
  },
  {
   "cell_type": "code",
   "execution_count": 71,
   "id": "28e072ca-8333-420d-b171-c1698ec7eeac",
   "metadata": {
    "tags": []
   },
   "outputs": [
    {
     "name": "stdout",
     "output_type": "stream",
     "text": [
      "[[ 1.41421356  0.          0.          0.          1.          0.\n",
      "   0.          0.          0.          0.        ]\n",
      " [ 0.          0.          0.          0.         -1.          0.\n",
      "   0.          1.73205081  0.          0.        ]\n",
      " [ 0.          0.          0.          0.          0.          0.\n",
      "   0.         -1.73205081  0.          1.41421356]\n",
      " [ 0.          0.          0.          0.          0.          0.\n",
      "   0.          0.          0.         -1.41421356]] [[ 1.41421356  0.          0.          0.        ]\n",
      " [ 0.          0.          0.          0.        ]\n",
      " [ 0.          0.          0.          0.        ]\n",
      " [ 0.          0.          0.          0.        ]\n",
      " [ 1.         -1.          0.          0.        ]\n",
      " [ 0.          0.          0.          0.        ]\n",
      " [ 0.          0.          0.          0.        ]\n",
      " [ 0.          1.73205081 -1.73205081  0.        ]\n",
      " [ 0.          0.          0.          0.        ]\n",
      " [ 0.          0.          1.41421356 -1.41421356]]\n"
     ]
    }
   ],
   "source": [
    "#geting inverse of sqrt{M}\n",
    "sqM_inv = np.linalg.inv(np.sqrt(M))\n",
    "#B matrix\n",
    "B = np.matmul(sqM_inv,sqM_B)\n",
    "#B dagger matrix\n",
    "B_dag = np.matrix(B).getH()\n",
    "print(B,B_dag)"
   ]
  },
  {
   "cell_type": "code",
   "execution_count": 80,
   "id": "c19c1f90-390f-45dc-bd0e-f93c7c86684d",
   "metadata": {
    "tags": []
   },
   "outputs": [
    {
     "name": "stdout",
     "output_type": "stream",
     "text": [
      "Dimensions of Matrix B is correct\n",
      "Dimensions of Matrix B_dag is correct\n",
      "B*B_dag = A: True\n"
     ]
    }
   ],
   "source": [
    "# Checking if formed B and B_dag is correct\n",
    "#1) Check in size of B is NxM and B_dag is MxN\n",
    "if len(B)==N and len(B[0])==int(N*(N+1)/2):\n",
    "    print(\"Dimensions of Matrix B is correct\")\n",
    "else:\n",
    "    print(\"Dimension of B is incorrect\")\n",
    "    \n",
    "if B_dag.shape[1]==N and B_dag.shape[0]==int(N*(N+1)/2): #since B_dag is numpy matrix not numpy array\n",
    "    print(\"Dimensions of Matrix B_dag is correct\")\n",
    "else:\n",
    "    print(\"Dimensions of B_dag is incorrect\")\n",
    "\n",
    "#2) Check if B*B_dag = A\n",
    "A = np.matmul(sqM_inv,np.matmul(F,sqM_inv))\n",
    "print(\"B*B_dag = A:\", np.allclose(np.matmul(B,B_dag),A))"
   ]
  },
  {
   "cell_type": "markdown",
   "id": "d03d68d4-456a-442f-aa2f-ef1b7645a9b9",
   "metadata": {},
   "source": [
    "## Finally we pad B and B_dagger according to pt. 2"
   ]
  },
  {
   "cell_type": "code",
   "execution_count": 88,
   "id": "d7e70cb7-cd00-4e31-b722-69af44a185c2",
   "metadata": {
    "tags": []
   },
   "outputs": [],
   "source": [
    "pad_B = np.pad(B,((0,int(N**2-N)),(0,int(N**2-(N*(N+1)/2)))),\"constant\")\n",
    "pad_B_dag = np.matrix(pad_B).getH()"
   ]
  },
  {
   "cell_type": "markdown",
   "id": "276fc74d-437e-46a3-8681-d2d6ec4c73de",
   "metadata": {},
   "source": [
    "# Finally Our Hamiltonian "
   ]
  },
  {
   "cell_type": "code",
   "execution_count": 119,
   "id": "b520c8d9-ef86-4af2-92f3-ba56998473e3",
   "metadata": {},
   "outputs": [],
   "source": [
    "temp1 = np.concatenate((-np.identity(N**2),-pad_B),axis = 1)\n",
    "temp2 = np.concatenate((-np.array(pad_B_dag), -np.identity(N**2)),axis = 1)\n",
    "H = np.concatenate((temp1,temp2),axis = 0)"
   ]
  },
  {
   "cell_type": "code",
   "execution_count": 120,
   "id": "891a319f-c9be-4e17-ab9f-a0152b7047b1",
   "metadata": {
    "tags": []
   },
   "outputs": [
    {
     "data": {
      "text/plain": [
       "(32, 32)"
      ]
     },
     "execution_count": 120,
     "metadata": {},
     "output_type": "execute_result"
    }
   ],
   "source": [
    "len(H),len(H[0])"
   ]
  },
  {
   "cell_type": "code",
   "execution_count": null,
   "id": "54afe23c-dd0c-4cd4-a947-e8612b73d504",
   "metadata": {},
   "outputs": [],
   "source": []
  }
 ],
 "metadata": {
  "kernelspec": {
   "display_name": "Qiskit v1.0.2 (ipykernel)",
   "language": "python",
   "name": "python3"
  },
  "language_info": {
   "codemirror_mode": {
    "name": "ipython",
    "version": 3
   },
   "file_extension": ".py",
   "mimetype": "text/x-python",
   "name": "python",
   "nbconvert_exporter": "python",
   "pygments_lexer": "ipython3",
   "version": "3.10.8"
  },
  "widgets": {
   "application/vnd.jupyter.widget-state+json": {
    "state": {},
    "version_major": 2,
    "version_minor": 0
   }
  }
 },
 "nbformat": 4,
 "nbformat_minor": 5
}
